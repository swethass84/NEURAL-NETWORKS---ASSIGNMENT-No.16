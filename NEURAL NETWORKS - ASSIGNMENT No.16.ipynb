{
 "cells": [
  {
   "cell_type": "code",
   "execution_count": 1,
   "id": "22b2bf90",
   "metadata": {},
   "outputs": [
    {
     "name": "stdout",
     "output_type": "stream",
     "text": [
      "Requirement already satisfied: tensorflow in c:\\users\\swetha\\anaconda3\\lib\\site-packages (2.8.0)\n",
      "Requirement already satisfied: h5py>=2.9.0 in c:\\users\\swetha\\anaconda3\\lib\\site-packages (from tensorflow) (3.2.1)\n",
      "Requirement already satisfied: wrapt>=1.11.0 in c:\\users\\swetha\\anaconda3\\lib\\site-packages (from tensorflow) (1.12.1)\n",
      "Requirement already satisfied: keras-preprocessing>=1.1.1 in c:\\users\\swetha\\anaconda3\\lib\\site-packages (from tensorflow) (1.1.2)\n",
      "Requirement already satisfied: protobuf>=3.9.2 in c:\\users\\swetha\\anaconda3\\lib\\site-packages (from tensorflow) (3.20.0)\n",
      "Requirement already satisfied: gast>=0.2.1 in c:\\users\\swetha\\anaconda3\\lib\\site-packages (from tensorflow) (0.5.3)\n",
      "Requirement already satisfied: google-pasta>=0.1.1 in c:\\users\\swetha\\anaconda3\\lib\\site-packages (from tensorflow) (0.2.0)\n",
      "Requirement already satisfied: absl-py>=0.4.0 in c:\\users\\swetha\\anaconda3\\lib\\site-packages (from tensorflow) (1.0.0)\n",
      "Requirement already satisfied: setuptools in c:\\users\\swetha\\anaconda3\\lib\\site-packages (from tensorflow) (58.0.4)\n",
      "Requirement already satisfied: tensorflow-io-gcs-filesystem>=0.23.1 in c:\\users\\swetha\\anaconda3\\lib\\site-packages (from tensorflow) (0.24.0)\n",
      "Requirement already satisfied: grpcio<2.0,>=1.24.3 in c:\\users\\swetha\\anaconda3\\lib\\site-packages (from tensorflow) (1.44.0)\n",
      "Requirement already satisfied: astunparse>=1.6.0 in c:\\users\\swetha\\anaconda3\\lib\\site-packages (from tensorflow) (1.6.3)\n",
      "Requirement already satisfied: libclang>=9.0.1 in c:\\users\\swetha\\anaconda3\\lib\\site-packages (from tensorflow) (13.0.0)\n",
      "Requirement already satisfied: tf-estimator-nightly==2.8.0.dev2021122109 in c:\\users\\swetha\\anaconda3\\lib\\site-packages (from tensorflow) (2.8.0.dev2021122109)\n",
      "Requirement already satisfied: termcolor>=1.1.0 in c:\\users\\swetha\\anaconda3\\lib\\site-packages (from tensorflow) (1.1.0)\n",
      "Requirement already satisfied: keras<2.9,>=2.8.0rc0 in c:\\users\\swetha\\anaconda3\\lib\\site-packages (from tensorflow) (2.8.0)\n",
      "Requirement already satisfied: flatbuffers>=1.12 in c:\\users\\swetha\\anaconda3\\lib\\site-packages (from tensorflow) (2.0)\n",
      "Requirement already satisfied: numpy>=1.20 in c:\\users\\swetha\\anaconda3\\lib\\site-packages (from tensorflow) (1.20.3)\n",
      "Requirement already satisfied: typing-extensions>=3.6.6 in c:\\users\\swetha\\anaconda3\\lib\\site-packages (from tensorflow) (3.10.0.2)\n",
      "Requirement already satisfied: six>=1.12.0 in c:\\users\\swetha\\anaconda3\\lib\\site-packages (from tensorflow) (1.16.0)\n",
      "Requirement already satisfied: tensorboard<2.9,>=2.8 in c:\\users\\swetha\\anaconda3\\lib\\site-packages (from tensorflow) (2.8.0)\n",
      "Requirement already satisfied: opt-einsum>=2.3.2 in c:\\users\\swetha\\anaconda3\\lib\\site-packages (from tensorflow) (3.3.0)\n",
      "Requirement already satisfied: wheel<1.0,>=0.23.0 in c:\\users\\swetha\\anaconda3\\lib\\site-packages (from astunparse>=1.6.0->tensorflow) (0.37.0)\n",
      "Requirement already satisfied: google-auth-oauthlib<0.5,>=0.4.1 in c:\\users\\swetha\\anaconda3\\lib\\site-packages (from tensorboard<2.9,>=2.8->tensorflow) (0.4.6)\n",
      "Requirement already satisfied: requests<3,>=2.21.0 in c:\\users\\swetha\\anaconda3\\lib\\site-packages (from tensorboard<2.9,>=2.8->tensorflow) (2.26.0)\n",
      "Requirement already satisfied: markdown>=2.6.8 in c:\\users\\swetha\\anaconda3\\lib\\site-packages (from tensorboard<2.9,>=2.8->tensorflow) (3.3.6)\n",
      "Requirement already satisfied: tensorboard-data-server<0.7.0,>=0.6.0 in c:\\users\\swetha\\anaconda3\\lib\\site-packages (from tensorboard<2.9,>=2.8->tensorflow) (0.6.1)\n",
      "Requirement already satisfied: tensorboard-plugin-wit>=1.6.0 in c:\\users\\swetha\\anaconda3\\lib\\site-packages (from tensorboard<2.9,>=2.8->tensorflow) (1.8.1)\n",
      "Requirement already satisfied: google-auth<3,>=1.6.3 in c:\\users\\swetha\\anaconda3\\lib\\site-packages (from tensorboard<2.9,>=2.8->tensorflow) (2.6.2)\n",
      "Requirement already satisfied: werkzeug>=0.11.15 in c:\\users\\swetha\\anaconda3\\lib\\site-packages (from tensorboard<2.9,>=2.8->tensorflow) (2.0.2)\n",
      "Requirement already satisfied: rsa<5,>=3.1.4 in c:\\users\\swetha\\anaconda3\\lib\\site-packages (from google-auth<3,>=1.6.3->tensorboard<2.9,>=2.8->tensorflow) (4.8)\n",
      "Requirement already satisfied: cachetools<6.0,>=2.0.0 in c:\\users\\swetha\\anaconda3\\lib\\site-packages (from google-auth<3,>=1.6.3->tensorboard<2.9,>=2.8->tensorflow) (5.0.0)\n",
      "Requirement already satisfied: pyasn1-modules>=0.2.1 in c:\\users\\swetha\\anaconda3\\lib\\site-packages (from google-auth<3,>=1.6.3->tensorboard<2.9,>=2.8->tensorflow) (0.2.8)\n",
      "Requirement already satisfied: requests-oauthlib>=0.7.0 in c:\\users\\swetha\\anaconda3\\lib\\site-packages (from google-auth-oauthlib<0.5,>=0.4.1->tensorboard<2.9,>=2.8->tensorflow) (1.3.1)\n",
      "Requirement already satisfied: importlib-metadata>=4.4 in c:\\users\\swetha\\anaconda3\\lib\\site-packages (from markdown>=2.6.8->tensorboard<2.9,>=2.8->tensorflow) (4.8.1)\n",
      "Requirement already satisfied: zipp>=0.5 in c:\\users\\swetha\\anaconda3\\lib\\site-packages (from importlib-metadata>=4.4->markdown>=2.6.8->tensorboard<2.9,>=2.8->tensorflow) (3.6.0)\n",
      "Requirement already satisfied: pyasn1<0.5.0,>=0.4.6 in c:\\users\\swetha\\anaconda3\\lib\\site-packages (from pyasn1-modules>=0.2.1->google-auth<3,>=1.6.3->tensorboard<2.9,>=2.8->tensorflow) (0.4.8)\n",
      "Requirement already satisfied: urllib3<1.27,>=1.21.1 in c:\\users\\swetha\\anaconda3\\lib\\site-packages (from requests<3,>=2.21.0->tensorboard<2.9,>=2.8->tensorflow) (1.26.7)\n",
      "Requirement already satisfied: idna<4,>=2.5 in c:\\users\\swetha\\anaconda3\\lib\\site-packages (from requests<3,>=2.21.0->tensorboard<2.9,>=2.8->tensorflow) (3.2)\n",
      "Requirement already satisfied: certifi>=2017.4.17 in c:\\users\\swetha\\anaconda3\\lib\\site-packages (from requests<3,>=2.21.0->tensorboard<2.9,>=2.8->tensorflow) (2021.10.8)\n",
      "Requirement already satisfied: charset-normalizer~=2.0.0 in c:\\users\\swetha\\anaconda3\\lib\\site-packages (from requests<3,>=2.21.0->tensorboard<2.9,>=2.8->tensorflow) (2.0.4)\n",
      "Requirement already satisfied: oauthlib>=3.0.0 in c:\\users\\swetha\\anaconda3\\lib\\site-packages (from requests-oauthlib>=0.7.0->google-auth-oauthlib<0.5,>=0.4.1->tensorboard<2.9,>=2.8->tensorflow) (3.2.0)\n",
      "Note: you may need to restart the kernel to use updated packages.\n"
     ]
    }
   ],
   "source": [
    "pip install tensorflow"
   ]
  },
  {
   "cell_type": "code",
   "execution_count": 2,
   "id": "ed99a6a9",
   "metadata": {},
   "outputs": [
    {
     "name": "stdout",
     "output_type": "stream",
     "text": [
      "Requirement already satisfied: tensorflow in c:\\users\\swetha\\anaconda3\\lib\\site-packages (2.8.0)\n",
      "Requirement already satisfied: six>=1.12.0 in c:\\users\\swetha\\anaconda3\\lib\\site-packages (from tensorflow) (1.16.0)\n",
      "Requirement already satisfied: opt-einsum>=2.3.2 in c:\\users\\swetha\\anaconda3\\lib\\site-packages (from tensorflow) (3.3.0)\n",
      "Requirement already satisfied: grpcio<2.0,>=1.24.3 in c:\\users\\swetha\\anaconda3\\lib\\site-packages (from tensorflow) (1.44.0)\n",
      "Requirement already satisfied: setuptools in c:\\users\\swetha\\anaconda3\\lib\\site-packages (from tensorflow) (58.0.4)\n",
      "Requirement already satisfied: flatbuffers>=1.12 in c:\\users\\swetha\\anaconda3\\lib\\site-packages (from tensorflow) (2.0)\n",
      "Requirement already satisfied: tensorflow-io-gcs-filesystem>=0.23.1 in c:\\users\\swetha\\anaconda3\\lib\\site-packages (from tensorflow) (0.24.0)\n",
      "Requirement already satisfied: astunparse>=1.6.0 in c:\\users\\swetha\\anaconda3\\lib\\site-packages (from tensorflow) (1.6.3)\n",
      "Requirement already satisfied: keras<2.9,>=2.8.0rc0 in c:\\users\\swetha\\anaconda3\\lib\\site-packages (from tensorflow) (2.8.0)\n",
      "Requirement already satisfied: typing-extensions>=3.6.6 in c:\\users\\swetha\\anaconda3\\lib\\site-packages (from tensorflow) (3.10.0.2)\n",
      "Requirement already satisfied: protobuf>=3.9.2 in c:\\users\\swetha\\anaconda3\\lib\\site-packages (from tensorflow) (3.20.0)\n",
      "Requirement already satisfied: wrapt>=1.11.0 in c:\\users\\swetha\\anaconda3\\lib\\site-packages (from tensorflow) (1.12.1)\n",
      "Requirement already satisfied: numpy>=1.20 in c:\\users\\swetha\\anaconda3\\lib\\site-packages (from tensorflow) (1.20.3)\n",
      "Requirement already satisfied: keras-preprocessing>=1.1.1 in c:\\users\\swetha\\anaconda3\\lib\\site-packages (from tensorflow) (1.1.2)\n",
      "Requirement already satisfied: tensorboard<2.9,>=2.8 in c:\\users\\swetha\\anaconda3\\lib\\site-packages (from tensorflow) (2.8.0)\n",
      "Requirement already satisfied: absl-py>=0.4.0 in c:\\users\\swetha\\anaconda3\\lib\\site-packages (from tensorflow) (1.0.0)\n",
      "Requirement already satisfied: tf-estimator-nightly==2.8.0.dev2021122109 in c:\\users\\swetha\\anaconda3\\lib\\site-packages (from tensorflow) (2.8.0.dev2021122109)\n",
      "Requirement already satisfied: termcolor>=1.1.0 in c:\\users\\swetha\\anaconda3\\lib\\site-packages (from tensorflow) (1.1.0)\n",
      "Requirement already satisfied: gast>=0.2.1 in c:\\users\\swetha\\anaconda3\\lib\\site-packages (from tensorflow) (0.5.3)\n",
      "Requirement already satisfied: libclang>=9.0.1 in c:\\users\\swetha\\anaconda3\\lib\\site-packages (from tensorflow) (13.0.0)\n",
      "Requirement already satisfied: h5py>=2.9.0 in c:\\users\\swetha\\anaconda3\\lib\\site-packages (from tensorflow) (3.2.1)\n",
      "Requirement already satisfied: google-pasta>=0.1.1 in c:\\users\\swetha\\anaconda3\\lib\\site-packages (from tensorflow) (0.2.0)\n",
      "Requirement already satisfied: wheel<1.0,>=0.23.0 in c:\\users\\swetha\\anaconda3\\lib\\site-packages (from astunparse>=1.6.0->tensorflow) (0.37.0)\n",
      "Requirement already satisfied: werkzeug>=0.11.15 in c:\\users\\swetha\\anaconda3\\lib\\site-packages (from tensorboard<2.9,>=2.8->tensorflow) (2.0.2)\n",
      "Requirement already satisfied: requests<3,>=2.21.0 in c:\\users\\swetha\\anaconda3\\lib\\site-packages (from tensorboard<2.9,>=2.8->tensorflow) (2.26.0)\n",
      "Requirement already satisfied: tensorboard-plugin-wit>=1.6.0 in c:\\users\\swetha\\anaconda3\\lib\\site-packages (from tensorboard<2.9,>=2.8->tensorflow) (1.8.1)\n",
      "Requirement already satisfied: google-auth-oauthlib<0.5,>=0.4.1 in c:\\users\\swetha\\anaconda3\\lib\\site-packages (from tensorboard<2.9,>=2.8->tensorflow) (0.4.6)\n",
      "Requirement already satisfied: markdown>=2.6.8 in c:\\users\\swetha\\anaconda3\\lib\\site-packages (from tensorboard<2.9,>=2.8->tensorflow) (3.3.6)\n",
      "Requirement already satisfied: tensorboard-data-server<0.7.0,>=0.6.0 in c:\\users\\swetha\\anaconda3\\lib\\site-packages (from tensorboard<2.9,>=2.8->tensorflow) (0.6.1)\n",
      "Requirement already satisfied: google-auth<3,>=1.6.3 in c:\\users\\swetha\\anaconda3\\lib\\site-packages (from tensorboard<2.9,>=2.8->tensorflow) (2.6.2)\n",
      "Requirement already satisfied: rsa<5,>=3.1.4 in c:\\users\\swetha\\anaconda3\\lib\\site-packages (from google-auth<3,>=1.6.3->tensorboard<2.9,>=2.8->tensorflow) (4.8)\n",
      "Requirement already satisfied: pyasn1-modules>=0.2.1 in c:\\users\\swetha\\anaconda3\\lib\\site-packages (from google-auth<3,>=1.6.3->tensorboard<2.9,>=2.8->tensorflow) (0.2.8)\n",
      "Requirement already satisfied: cachetools<6.0,>=2.0.0 in c:\\users\\swetha\\anaconda3\\lib\\site-packages (from google-auth<3,>=1.6.3->tensorboard<2.9,>=2.8->tensorflow) (5.0.0)\n",
      "Requirement already satisfied: requests-oauthlib>=0.7.0 in c:\\users\\swetha\\anaconda3\\lib\\site-packages (from google-auth-oauthlib<0.5,>=0.4.1->tensorboard<2.9,>=2.8->tensorflow) (1.3.1)\n",
      "Requirement already satisfied: importlib-metadata>=4.4 in c:\\users\\swetha\\anaconda3\\lib\\site-packages (from markdown>=2.6.8->tensorboard<2.9,>=2.8->tensorflow) (4.8.1)\n",
      "Requirement already satisfied: zipp>=0.5 in c:\\users\\swetha\\anaconda3\\lib\\site-packages (from importlib-metadata>=4.4->markdown>=2.6.8->tensorboard<2.9,>=2.8->tensorflow) (3.6.0)\n",
      "Requirement already satisfied: pyasn1<0.5.0,>=0.4.6 in c:\\users\\swetha\\anaconda3\\lib\\site-packages (from pyasn1-modules>=0.2.1->google-auth<3,>=1.6.3->tensorboard<2.9,>=2.8->tensorflow) (0.4.8)\n",
      "Requirement already satisfied: urllib3<1.27,>=1.21.1 in c:\\users\\swetha\\anaconda3\\lib\\site-packages (from requests<3,>=2.21.0->tensorboard<2.9,>=2.8->tensorflow) (1.26.7)\n",
      "Requirement already satisfied: charset-normalizer~=2.0.0 in c:\\users\\swetha\\anaconda3\\lib\\site-packages (from requests<3,>=2.21.0->tensorboard<2.9,>=2.8->tensorflow) (2.0.4)\n",
      "Requirement already satisfied: idna<4,>=2.5 in c:\\users\\swetha\\anaconda3\\lib\\site-packages (from requests<3,>=2.21.0->tensorboard<2.9,>=2.8->tensorflow) (3.2)\n",
      "Requirement already satisfied: certifi>=2017.4.17 in c:\\users\\swetha\\anaconda3\\lib\\site-packages (from requests<3,>=2.21.0->tensorboard<2.9,>=2.8->tensorflow) (2021.10.8)\n",
      "Requirement already satisfied: oauthlib>=3.0.0 in c:\\users\\swetha\\anaconda3\\lib\\site-packages (from requests-oauthlib>=0.7.0->google-auth-oauthlib<0.5,>=0.4.1->tensorboard<2.9,>=2.8->tensorflow) (3.2.0)\n"
     ]
    }
   ],
   "source": [
    "!pip install tensorflow"
   ]
  },
  {
   "cell_type": "code",
   "execution_count": 7,
   "id": "4051706c",
   "metadata": {},
   "outputs": [
    {
     "name": "stdout",
     "output_type": "stream",
     "text": [
      "^C\n",
      "\n",
      "Note: you may need to restart the kernel to use updated packages.\n"
     ]
    }
   ],
   "source": [
    "conda install tensorflow "
   ]
  },
  {
   "cell_type": "code",
   "execution_count": 40,
   "id": "ef2c76e4",
   "metadata": {},
   "outputs": [],
   "source": [
    "import tensorflow  as tf\n",
    "import numpy"
   ]
  },
  {
   "cell_type": "markdown",
   "id": "323f0d0a",
   "metadata": {},
   "source": [
    "# PREDICT THE BURNED AREA OF FOREST FIRES WITH NEURAL NETWORKS\n",
    "\n",
    "# For FORESTFIRES dataset"
   ]
  },
  {
   "cell_type": "code",
   "execution_count": 41,
   "id": "ab2f6f03",
   "metadata": {},
   "outputs": [],
   "source": [
    "# fix random seed for reproducibility\n",
    "seed = 7\n",
    "numpy.random.seed(seed)"
   ]
  },
  {
   "cell_type": "code",
   "execution_count": 42,
   "id": "eb000e35",
   "metadata": {},
   "outputs": [],
   "source": [
    "import pandas as pd"
   ]
  },
  {
   "cell_type": "code",
   "execution_count": 43,
   "id": "82d86906",
   "metadata": {},
   "outputs": [],
   "source": [
    "forestfires = pd.read_csv(\"C:\\\\Users\\\\Swetha\\\\Desktop\\\\EXCELR\\\\DS - ASSIGNMENT\\\\NEURAL NETWORKS\\\\forestfires.csv\")"
   ]
  },
  {
   "cell_type": "code",
   "execution_count": 44,
   "id": "b988a6ff",
   "metadata": {},
   "outputs": [
    {
     "data": {
      "text/html": [
       "<div>\n",
       "<style scoped>\n",
       "    .dataframe tbody tr th:only-of-type {\n",
       "        vertical-align: middle;\n",
       "    }\n",
       "\n",
       "    .dataframe tbody tr th {\n",
       "        vertical-align: top;\n",
       "    }\n",
       "\n",
       "    .dataframe thead th {\n",
       "        text-align: right;\n",
       "    }\n",
       "</style>\n",
       "<table border=\"1\" class=\"dataframe\">\n",
       "  <thead>\n",
       "    <tr style=\"text-align: right;\">\n",
       "      <th></th>\n",
       "      <th>month</th>\n",
       "      <th>day</th>\n",
       "      <th>FFMC</th>\n",
       "      <th>DMC</th>\n",
       "      <th>DC</th>\n",
       "      <th>ISI</th>\n",
       "      <th>temp</th>\n",
       "      <th>RH</th>\n",
       "      <th>wind</th>\n",
       "      <th>rain</th>\n",
       "      <th>...</th>\n",
       "      <th>monthfeb</th>\n",
       "      <th>monthjan</th>\n",
       "      <th>monthjul</th>\n",
       "      <th>monthjun</th>\n",
       "      <th>monthmar</th>\n",
       "      <th>monthmay</th>\n",
       "      <th>monthnov</th>\n",
       "      <th>monthoct</th>\n",
       "      <th>monthsep</th>\n",
       "      <th>size_category</th>\n",
       "    </tr>\n",
       "  </thead>\n",
       "  <tbody>\n",
       "    <tr>\n",
       "      <th>0</th>\n",
       "      <td>mar</td>\n",
       "      <td>fri</td>\n",
       "      <td>86.2</td>\n",
       "      <td>26.2</td>\n",
       "      <td>94.3</td>\n",
       "      <td>5.1</td>\n",
       "      <td>8.2</td>\n",
       "      <td>51</td>\n",
       "      <td>6.7</td>\n",
       "      <td>0.0</td>\n",
       "      <td>...</td>\n",
       "      <td>0</td>\n",
       "      <td>0</td>\n",
       "      <td>0</td>\n",
       "      <td>0</td>\n",
       "      <td>1</td>\n",
       "      <td>0</td>\n",
       "      <td>0</td>\n",
       "      <td>0</td>\n",
       "      <td>0</td>\n",
       "      <td>small</td>\n",
       "    </tr>\n",
       "    <tr>\n",
       "      <th>1</th>\n",
       "      <td>oct</td>\n",
       "      <td>tue</td>\n",
       "      <td>90.6</td>\n",
       "      <td>35.4</td>\n",
       "      <td>669.1</td>\n",
       "      <td>6.7</td>\n",
       "      <td>18.0</td>\n",
       "      <td>33</td>\n",
       "      <td>0.9</td>\n",
       "      <td>0.0</td>\n",
       "      <td>...</td>\n",
       "      <td>0</td>\n",
       "      <td>0</td>\n",
       "      <td>0</td>\n",
       "      <td>0</td>\n",
       "      <td>0</td>\n",
       "      <td>0</td>\n",
       "      <td>0</td>\n",
       "      <td>1</td>\n",
       "      <td>0</td>\n",
       "      <td>small</td>\n",
       "    </tr>\n",
       "    <tr>\n",
       "      <th>2</th>\n",
       "      <td>oct</td>\n",
       "      <td>sat</td>\n",
       "      <td>90.6</td>\n",
       "      <td>43.7</td>\n",
       "      <td>686.9</td>\n",
       "      <td>6.7</td>\n",
       "      <td>14.6</td>\n",
       "      <td>33</td>\n",
       "      <td>1.3</td>\n",
       "      <td>0.0</td>\n",
       "      <td>...</td>\n",
       "      <td>0</td>\n",
       "      <td>0</td>\n",
       "      <td>0</td>\n",
       "      <td>0</td>\n",
       "      <td>0</td>\n",
       "      <td>0</td>\n",
       "      <td>0</td>\n",
       "      <td>1</td>\n",
       "      <td>0</td>\n",
       "      <td>small</td>\n",
       "    </tr>\n",
       "    <tr>\n",
       "      <th>3</th>\n",
       "      <td>mar</td>\n",
       "      <td>fri</td>\n",
       "      <td>91.7</td>\n",
       "      <td>33.3</td>\n",
       "      <td>77.5</td>\n",
       "      <td>9.0</td>\n",
       "      <td>8.3</td>\n",
       "      <td>97</td>\n",
       "      <td>4.0</td>\n",
       "      <td>0.2</td>\n",
       "      <td>...</td>\n",
       "      <td>0</td>\n",
       "      <td>0</td>\n",
       "      <td>0</td>\n",
       "      <td>0</td>\n",
       "      <td>1</td>\n",
       "      <td>0</td>\n",
       "      <td>0</td>\n",
       "      <td>0</td>\n",
       "      <td>0</td>\n",
       "      <td>small</td>\n",
       "    </tr>\n",
       "    <tr>\n",
       "      <th>4</th>\n",
       "      <td>mar</td>\n",
       "      <td>sun</td>\n",
       "      <td>89.3</td>\n",
       "      <td>51.3</td>\n",
       "      <td>102.2</td>\n",
       "      <td>9.6</td>\n",
       "      <td>11.4</td>\n",
       "      <td>99</td>\n",
       "      <td>1.8</td>\n",
       "      <td>0.0</td>\n",
       "      <td>...</td>\n",
       "      <td>0</td>\n",
       "      <td>0</td>\n",
       "      <td>0</td>\n",
       "      <td>0</td>\n",
       "      <td>1</td>\n",
       "      <td>0</td>\n",
       "      <td>0</td>\n",
       "      <td>0</td>\n",
       "      <td>0</td>\n",
       "      <td>small</td>\n",
       "    </tr>\n",
       "    <tr>\n",
       "      <th>...</th>\n",
       "      <td>...</td>\n",
       "      <td>...</td>\n",
       "      <td>...</td>\n",
       "      <td>...</td>\n",
       "      <td>...</td>\n",
       "      <td>...</td>\n",
       "      <td>...</td>\n",
       "      <td>...</td>\n",
       "      <td>...</td>\n",
       "      <td>...</td>\n",
       "      <td>...</td>\n",
       "      <td>...</td>\n",
       "      <td>...</td>\n",
       "      <td>...</td>\n",
       "      <td>...</td>\n",
       "      <td>...</td>\n",
       "      <td>...</td>\n",
       "      <td>...</td>\n",
       "      <td>...</td>\n",
       "      <td>...</td>\n",
       "      <td>...</td>\n",
       "    </tr>\n",
       "    <tr>\n",
       "      <th>512</th>\n",
       "      <td>aug</td>\n",
       "      <td>sun</td>\n",
       "      <td>81.6</td>\n",
       "      <td>56.7</td>\n",
       "      <td>665.6</td>\n",
       "      <td>1.9</td>\n",
       "      <td>27.8</td>\n",
       "      <td>32</td>\n",
       "      <td>2.7</td>\n",
       "      <td>0.0</td>\n",
       "      <td>...</td>\n",
       "      <td>0</td>\n",
       "      <td>0</td>\n",
       "      <td>0</td>\n",
       "      <td>0</td>\n",
       "      <td>0</td>\n",
       "      <td>0</td>\n",
       "      <td>0</td>\n",
       "      <td>0</td>\n",
       "      <td>0</td>\n",
       "      <td>large</td>\n",
       "    </tr>\n",
       "    <tr>\n",
       "      <th>513</th>\n",
       "      <td>aug</td>\n",
       "      <td>sun</td>\n",
       "      <td>81.6</td>\n",
       "      <td>56.7</td>\n",
       "      <td>665.6</td>\n",
       "      <td>1.9</td>\n",
       "      <td>21.9</td>\n",
       "      <td>71</td>\n",
       "      <td>5.8</td>\n",
       "      <td>0.0</td>\n",
       "      <td>...</td>\n",
       "      <td>0</td>\n",
       "      <td>0</td>\n",
       "      <td>0</td>\n",
       "      <td>0</td>\n",
       "      <td>0</td>\n",
       "      <td>0</td>\n",
       "      <td>0</td>\n",
       "      <td>0</td>\n",
       "      <td>0</td>\n",
       "      <td>large</td>\n",
       "    </tr>\n",
       "    <tr>\n",
       "      <th>514</th>\n",
       "      <td>aug</td>\n",
       "      <td>sun</td>\n",
       "      <td>81.6</td>\n",
       "      <td>56.7</td>\n",
       "      <td>665.6</td>\n",
       "      <td>1.9</td>\n",
       "      <td>21.2</td>\n",
       "      <td>70</td>\n",
       "      <td>6.7</td>\n",
       "      <td>0.0</td>\n",
       "      <td>...</td>\n",
       "      <td>0</td>\n",
       "      <td>0</td>\n",
       "      <td>0</td>\n",
       "      <td>0</td>\n",
       "      <td>0</td>\n",
       "      <td>0</td>\n",
       "      <td>0</td>\n",
       "      <td>0</td>\n",
       "      <td>0</td>\n",
       "      <td>large</td>\n",
       "    </tr>\n",
       "    <tr>\n",
       "      <th>515</th>\n",
       "      <td>aug</td>\n",
       "      <td>sat</td>\n",
       "      <td>94.4</td>\n",
       "      <td>146.0</td>\n",
       "      <td>614.7</td>\n",
       "      <td>11.3</td>\n",
       "      <td>25.6</td>\n",
       "      <td>42</td>\n",
       "      <td>4.0</td>\n",
       "      <td>0.0</td>\n",
       "      <td>...</td>\n",
       "      <td>0</td>\n",
       "      <td>0</td>\n",
       "      <td>0</td>\n",
       "      <td>0</td>\n",
       "      <td>0</td>\n",
       "      <td>0</td>\n",
       "      <td>0</td>\n",
       "      <td>0</td>\n",
       "      <td>0</td>\n",
       "      <td>small</td>\n",
       "    </tr>\n",
       "    <tr>\n",
       "      <th>516</th>\n",
       "      <td>nov</td>\n",
       "      <td>tue</td>\n",
       "      <td>79.5</td>\n",
       "      <td>3.0</td>\n",
       "      <td>106.7</td>\n",
       "      <td>1.1</td>\n",
       "      <td>11.8</td>\n",
       "      <td>31</td>\n",
       "      <td>4.5</td>\n",
       "      <td>0.0</td>\n",
       "      <td>...</td>\n",
       "      <td>0</td>\n",
       "      <td>0</td>\n",
       "      <td>0</td>\n",
       "      <td>0</td>\n",
       "      <td>0</td>\n",
       "      <td>0</td>\n",
       "      <td>1</td>\n",
       "      <td>0</td>\n",
       "      <td>0</td>\n",
       "      <td>small</td>\n",
       "    </tr>\n",
       "  </tbody>\n",
       "</table>\n",
       "<p>517 rows × 31 columns</p>\n",
       "</div>"
      ],
      "text/plain": [
       "    month  day  FFMC    DMC     DC   ISI  temp  RH  wind  rain  ...  monthfeb  \\\n",
       "0     mar  fri  86.2   26.2   94.3   5.1   8.2  51   6.7   0.0  ...         0   \n",
       "1     oct  tue  90.6   35.4  669.1   6.7  18.0  33   0.9   0.0  ...         0   \n",
       "2     oct  sat  90.6   43.7  686.9   6.7  14.6  33   1.3   0.0  ...         0   \n",
       "3     mar  fri  91.7   33.3   77.5   9.0   8.3  97   4.0   0.2  ...         0   \n",
       "4     mar  sun  89.3   51.3  102.2   9.6  11.4  99   1.8   0.0  ...         0   \n",
       "..    ...  ...   ...    ...    ...   ...   ...  ..   ...   ...  ...       ...   \n",
       "512   aug  sun  81.6   56.7  665.6   1.9  27.8  32   2.7   0.0  ...         0   \n",
       "513   aug  sun  81.6   56.7  665.6   1.9  21.9  71   5.8   0.0  ...         0   \n",
       "514   aug  sun  81.6   56.7  665.6   1.9  21.2  70   6.7   0.0  ...         0   \n",
       "515   aug  sat  94.4  146.0  614.7  11.3  25.6  42   4.0   0.0  ...         0   \n",
       "516   nov  tue  79.5    3.0  106.7   1.1  11.8  31   4.5   0.0  ...         0   \n",
       "\n",
       "     monthjan  monthjul  monthjun  monthmar  monthmay  monthnov  monthoct  \\\n",
       "0           0         0         0         1         0         0         0   \n",
       "1           0         0         0         0         0         0         1   \n",
       "2           0         0         0         0         0         0         1   \n",
       "3           0         0         0         1         0         0         0   \n",
       "4           0         0         0         1         0         0         0   \n",
       "..        ...       ...       ...       ...       ...       ...       ...   \n",
       "512         0         0         0         0         0         0         0   \n",
       "513         0         0         0         0         0         0         0   \n",
       "514         0         0         0         0         0         0         0   \n",
       "515         0         0         0         0         0         0         0   \n",
       "516         0         0         0         0         0         1         0   \n",
       "\n",
       "     monthsep  size_category  \n",
       "0           0          small  \n",
       "1           0          small  \n",
       "2           0          small  \n",
       "3           0          small  \n",
       "4           0          small  \n",
       "..        ...            ...  \n",
       "512         0          large  \n",
       "513         0          large  \n",
       "514         0          large  \n",
       "515         0          small  \n",
       "516         0          small  \n",
       "\n",
       "[517 rows x 31 columns]"
      ]
     },
     "execution_count": 44,
     "metadata": {},
     "output_type": "execute_result"
    }
   ],
   "source": [
    "forestfires"
   ]
  },
  {
   "cell_type": "code",
   "execution_count": 45,
   "id": "65259a5f",
   "metadata": {},
   "outputs": [],
   "source": [
    "# Encode Data\n",
    "forestfires.month.replace(('jan','feb','mar','apr','may','jun','jul','aug','sep','oct','nov','dec'),(1,2,3,4,5,6,7,8,9,10,11,12), inplace=True)\n",
    "forestfires.day.replace(('mon','tue','wed','thu','fri','sat','sun'),(1,2,3,4,5,6,7), inplace=True)"
   ]
  },
  {
   "cell_type": "code",
   "execution_count": 46,
   "id": "425f711e",
   "metadata": {},
   "outputs": [
    {
     "name": "stdout",
     "output_type": "stream",
     "text": [
      "Head:    month  day  FFMC   DMC     DC  ISI  temp  RH  wind  rain  ...  monthfeb  \\\n",
      "0      3    5  86.2  26.2   94.3  5.1   8.2  51   6.7   0.0  ...         0   \n",
      "1     10    2  90.6  35.4  669.1  6.7  18.0  33   0.9   0.0  ...         0   \n",
      "2     10    6  90.6  43.7  686.9  6.7  14.6  33   1.3   0.0  ...         0   \n",
      "3      3    5  91.7  33.3   77.5  9.0   8.3  97   4.0   0.2  ...         0   \n",
      "4      3    7  89.3  51.3  102.2  9.6  11.4  99   1.8   0.0  ...         0   \n",
      "\n",
      "   monthjan  monthjul  monthjun  monthmar  monthmay  monthnov  monthoct  \\\n",
      "0         0         0         0         1         0         0         0   \n",
      "1         0         0         0         0         0         0         1   \n",
      "2         0         0         0         0         0         0         1   \n",
      "3         0         0         0         1         0         0         0   \n",
      "4         0         0         0         1         0         0         0   \n",
      "\n",
      "   monthsep  size_category  \n",
      "0         0          small  \n",
      "1         0          small  \n",
      "2         0          small  \n",
      "3         0          small  \n",
      "4         0          small  \n",
      "\n",
      "[5 rows x 31 columns]\n"
     ]
    }
   ],
   "source": [
    "print(\"Head:\", forestfires.head())"
   ]
  },
  {
   "cell_type": "code",
   "execution_count": 47,
   "id": "3be8f458",
   "metadata": {},
   "outputs": [
    {
     "name": "stdout",
     "output_type": "stream",
     "text": [
      "Statistical Description:             month         day        FFMC         DMC          DC         ISI  \\\n",
      "count  517.000000  517.000000  517.000000  517.000000  517.000000  517.000000   \n",
      "mean     7.475822    4.259188   90.644681  110.872340  547.940039    9.021663   \n",
      "std      2.275990    2.072929    5.520111   64.046482  248.066192    4.559477   \n",
      "min      1.000000    1.000000   18.700000    1.100000    7.900000    0.000000   \n",
      "25%      7.000000    2.000000   90.200000   68.600000  437.700000    6.500000   \n",
      "50%      8.000000    5.000000   91.600000  108.300000  664.200000    8.400000   \n",
      "75%      9.000000    6.000000   92.900000  142.400000  713.900000   10.800000   \n",
      "max     12.000000    7.000000   96.200000  291.300000  860.600000   56.100000   \n",
      "\n",
      "             temp          RH        wind        rain  ...    monthdec  \\\n",
      "count  517.000000  517.000000  517.000000  517.000000  ...  517.000000   \n",
      "mean    18.889168   44.288201    4.017602    0.021663  ...    0.017408   \n",
      "std      5.806625   16.317469    1.791653    0.295959  ...    0.130913   \n",
      "min      2.200000   15.000000    0.400000    0.000000  ...    0.000000   \n",
      "25%     15.500000   33.000000    2.700000    0.000000  ...    0.000000   \n",
      "50%     19.300000   42.000000    4.000000    0.000000  ...    0.000000   \n",
      "75%     22.800000   53.000000    4.900000    0.000000  ...    0.000000   \n",
      "max     33.300000  100.000000    9.400000    6.400000  ...    1.000000   \n",
      "\n",
      "         monthfeb    monthjan    monthjul    monthjun    monthmar    monthmay  \\\n",
      "count  517.000000  517.000000  517.000000  517.000000  517.000000  517.000000   \n",
      "mean     0.038685    0.003868    0.061896    0.032882    0.104449    0.003868   \n",
      "std      0.193029    0.062137    0.241199    0.178500    0.306138    0.062137   \n",
      "min      0.000000    0.000000    0.000000    0.000000    0.000000    0.000000   \n",
      "25%      0.000000    0.000000    0.000000    0.000000    0.000000    0.000000   \n",
      "50%      0.000000    0.000000    0.000000    0.000000    0.000000    0.000000   \n",
      "75%      0.000000    0.000000    0.000000    0.000000    0.000000    0.000000   \n",
      "max      1.000000    1.000000    1.000000    1.000000    1.000000    1.000000   \n",
      "\n",
      "         monthnov    monthoct    monthsep  \n",
      "count  517.000000  517.000000  517.000000  \n",
      "mean     0.001934    0.029014    0.332689  \n",
      "std      0.043980    0.168007    0.471632  \n",
      "min      0.000000    0.000000    0.000000  \n",
      "25%      0.000000    0.000000    0.000000  \n",
      "50%      0.000000    0.000000    0.000000  \n",
      "75%      0.000000    0.000000    1.000000  \n",
      "max      1.000000    1.000000    1.000000  \n",
      "\n",
      "[8 rows x 30 columns]\n"
     ]
    }
   ],
   "source": [
    "print(\"Statistical Description:\", forestfires.describe())"
   ]
  },
  {
   "cell_type": "code",
   "execution_count": 48,
   "id": "91c52a73",
   "metadata": {},
   "outputs": [
    {
     "name": "stdout",
     "output_type": "stream",
     "text": [
      "Shape: (517, 31)\n"
     ]
    }
   ],
   "source": [
    "print(\"Shape:\", forestfires.shape)"
   ]
  },
  {
   "cell_type": "code",
   "execution_count": 49,
   "id": "77890756",
   "metadata": {},
   "outputs": [
    {
     "name": "stdout",
     "output_type": "stream",
     "text": [
      "Data Types: month              int64\n",
      "day                int64\n",
      "FFMC             float64\n",
      "DMC              float64\n",
      "DC               float64\n",
      "ISI              float64\n",
      "temp             float64\n",
      "RH                 int64\n",
      "wind             float64\n",
      "rain             float64\n",
      "area             float64\n",
      "dayfri             int64\n",
      "daymon             int64\n",
      "daysat             int64\n",
      "daysun             int64\n",
      "daythu             int64\n",
      "daytue             int64\n",
      "daywed             int64\n",
      "monthapr           int64\n",
      "monthaug           int64\n",
      "monthdec           int64\n",
      "monthfeb           int64\n",
      "monthjan           int64\n",
      "monthjul           int64\n",
      "monthjun           int64\n",
      "monthmar           int64\n",
      "monthmay           int64\n",
      "monthnov           int64\n",
      "monthoct           int64\n",
      "monthsep           int64\n",
      "size_category     object\n",
      "dtype: object\n"
     ]
    }
   ],
   "source": [
    "print(\"Data Types:\", forestfires.dtypes)"
   ]
  },
  {
   "cell_type": "code",
   "execution_count": 51,
   "id": "d0412f22",
   "metadata": {},
   "outputs": [
    {
     "name": "stdout",
     "output_type": "stream",
     "text": [
      "Correlation:              month       day      FFMC       DMC        DC       ISI  \\\n",
      "month     1.000000 -0.050837  0.291477  0.466645  0.868698  0.186597   \n",
      "day      -0.050837  1.000000 -0.041068  0.062870  0.000105  0.032909   \n",
      "FFMC      0.291477 -0.041068  1.000000  0.382619  0.330512  0.531805   \n",
      "DMC       0.466645  0.062870  0.382619  1.000000  0.682192  0.305128   \n",
      "DC        0.868698  0.000105  0.330512  0.682192  1.000000  0.229154   \n",
      "ISI       0.186597  0.032909  0.531805  0.305128  0.229154  1.000000   \n",
      "temp      0.368842  0.052190  0.431532  0.469594  0.496208  0.394287   \n",
      "RH       -0.095280  0.092151 -0.300995  0.073795 -0.039192 -0.132517   \n",
      "wind     -0.086368  0.032478 -0.028485 -0.105342 -0.203466  0.106826   \n",
      "rain      0.013438 -0.048340  0.056702  0.074790  0.035861  0.067668   \n",
      "area      0.056496  0.023226  0.040122  0.072994  0.049383  0.008258   \n",
      "dayfri   -0.028562  0.158676  0.019306 -0.012010 -0.004220  0.046695   \n",
      "daymon   -0.002941 -0.643220 -0.059396 -0.107921 -0.052993 -0.158601   \n",
      "daysat   -0.057580  0.370240 -0.019637 -0.003653 -0.035189 -0.038585   \n",
      "daysun   -0.009232  0.627944 -0.089517  0.025355 -0.001431 -0.003243   \n",
      "daythu    0.028940 -0.045775  0.071730  0.087672  0.051859 -0.022406   \n",
      "daytue    0.053072 -0.410043  0.011225  0.000016  0.028368  0.068610   \n",
      "daywed    0.031445 -0.207650  0.093908  0.017939  0.024803  0.125415   \n",
      "monthapr -0.203468  0.040473 -0.117199 -0.197543 -0.268211 -0.106478   \n",
      "monthaug  0.171362  0.049373  0.228103  0.497928  0.279361  0.334639   \n",
      "monthdec  0.264837 -0.095214 -0.137044 -0.176301 -0.105642 -0.162322   \n",
      "monthfeb -0.483099  0.028170 -0.281535 -0.317899 -0.399277 -0.249777   \n",
      "monthjan -0.177483  0.067430 -0.454771 -0.105647 -0.115064 -0.103588   \n",
      "monthjul -0.053753 -0.005016  0.031833 -0.001946 -0.100887  0.020982   \n",
      "monthjun -0.119681  0.013585 -0.040634 -0.050403 -0.186183  0.111516   \n",
      "monthmar -0.672248 -0.036634 -0.074327 -0.407404 -0.650427 -0.143520   \n",
      "monthmay -0.067855  0.037338 -0.037230 -0.081980 -0.114209 -0.060493   \n",
      "monthnov  0.068231 -0.048025 -0.088964 -0.074218 -0.078380 -0.076559   \n",
      "monthoct  0.191895 -0.032764 -0.005998 -0.187632  0.093279 -0.071154   \n",
      "monthsep  0.473304 -0.022955  0.076609  0.110907  0.531857 -0.068877   \n",
      "\n",
      "              temp        RH      wind      rain  ...  monthdec  monthfeb  \\\n",
      "month     0.368842 -0.095280 -0.086368  0.013438  ...  0.264837 -0.483099   \n",
      "day       0.052190  0.092151  0.032478 -0.048340  ... -0.095214  0.028170   \n",
      "FFMC      0.431532 -0.300995 -0.028485  0.056702  ... -0.137044 -0.281535   \n",
      "DMC       0.469594  0.073795 -0.105342  0.074790  ... -0.176301 -0.317899   \n",
      "DC        0.496208 -0.039192 -0.203466  0.035861  ... -0.105642 -0.399277   \n",
      "ISI       0.394287 -0.132517  0.106826  0.067668  ... -0.162322 -0.249777   \n",
      "temp      1.000000 -0.527390 -0.227116  0.069491  ... -0.329648 -0.320015   \n",
      "RH       -0.527390  1.000000  0.069410  0.099751  ... -0.047714  0.140430   \n",
      "wind     -0.227116  0.069410  1.000000  0.061119  ...  0.269702 -0.029431   \n",
      "rain      0.069491  0.099751  0.061119  1.000000  ... -0.009752 -0.014698   \n",
      "area      0.097844 -0.075519  0.012317 -0.007366  ...  0.001010 -0.020732   \n",
      "dayfri   -0.071949  0.064506  0.118090 -0.004261  ... -0.019140  0.046323   \n",
      "daymon   -0.136529  0.009376 -0.063881 -0.029945  ...  0.114519  0.003933   \n",
      "daysat    0.034899 -0.023869 -0.063799 -0.032271  ... -0.058625  0.020406   \n",
      "daysun    0.014403  0.136220  0.027981 -0.017872  ... -0.024966  0.008416   \n",
      "daythu    0.051432 -0.123061 -0.062553 -0.026798  ... -0.002838 -0.042278   \n",
      "daytue    0.035630 -0.014211  0.053396  0.139311  ... -0.005125 -0.014491   \n",
      "daywed    0.090580 -0.087508 -0.019965 -0.020744  ...  0.002899 -0.035713   \n",
      "monthapr -0.157051  0.021235  0.048266 -0.009752  ... -0.017717 -0.026701   \n",
      "monthaug  0.351404  0.054761  0.028577  0.093101  ... -0.098941 -0.149116   \n",
      "monthdec -0.329648 -0.047714  0.269702 -0.009752  ...  1.000000 -0.026701   \n",
      "monthfeb -0.320015  0.140430 -0.029431 -0.014698  ... -0.026701  1.000000   \n",
      "monthjan -0.146520  0.170923 -0.070245 -0.004566  ... -0.008295 -0.012501   \n",
      "monthjul  0.142588  0.013185 -0.040645 -0.013390  ... -0.034190 -0.051528   \n",
      "monthjun  0.051015  0.009382  0.012124 -0.013510  ... -0.024543 -0.036989   \n",
      "monthmar -0.341797 -0.089836  0.181433 -0.020744  ... -0.045456 -0.068508   \n",
      "monthmay -0.045540  0.086822  0.015054 -0.004566  ... -0.008295 -0.012501   \n",
      "monthnov -0.053798 -0.035885  0.011864 -0.003225  ... -0.005860 -0.008831   \n",
      "monthoct -0.053513 -0.072334 -0.053850 -0.012665  ... -0.023008 -0.034676   \n",
      "monthsep  0.088006 -0.062596 -0.181476 -0.051733  ... -0.093982 -0.141642   \n",
      "\n",
      "          monthjan  monthjul  monthjun  monthmar  monthmay  monthnov  \\\n",
      "month    -0.177483 -0.053753 -0.119681 -0.672248 -0.067855  0.068231   \n",
      "day       0.067430 -0.005016  0.013585 -0.036634  0.037338 -0.048025   \n",
      "FFMC     -0.454771  0.031833 -0.040634 -0.074327 -0.037230 -0.088964   \n",
      "DMC      -0.105647 -0.001946 -0.050403 -0.407404 -0.081980 -0.074218   \n",
      "DC       -0.115064 -0.100887 -0.186183 -0.650427 -0.114209 -0.078380   \n",
      "ISI      -0.103588  0.020982  0.111516 -0.143520 -0.060493 -0.076559   \n",
      "temp     -0.146520  0.142588  0.051015 -0.341797 -0.045540 -0.053798   \n",
      "RH        0.170923  0.013185  0.009382 -0.089836  0.086822 -0.035885   \n",
      "wind     -0.070245 -0.040645  0.012124  0.181433  0.015054  0.011864   \n",
      "rain     -0.004566 -0.013390 -0.013510 -0.020744 -0.004566 -0.003225   \n",
      "area     -0.012589  0.006149 -0.020314 -0.045596  0.006264 -0.008893   \n",
      "dayfri   -0.027643 -0.048969  0.006000  0.036205  0.056423 -0.019527   \n",
      "daymon   -0.025470 -0.013300  0.017553  0.077125 -0.025470 -0.017992   \n",
      "daysat    0.057019  0.060945 -0.022408  0.021024  0.057019 -0.019390   \n",
      "daysun    0.050887 -0.018241  0.024540 -0.047726 -0.029568 -0.020887   \n",
      "daythu   -0.022793 -0.019300 -0.000195 -0.026885 -0.022793 -0.016101   \n",
      "daytue   -0.023424  0.049688 -0.069308 -0.032351 -0.023424  0.117121   \n",
      "daywed   -0.021282 -0.008985  0.043422 -0.033917 -0.021282 -0.015034   \n",
      "monthapr -0.008295 -0.034190 -0.024543 -0.045456 -0.008295 -0.005860   \n",
      "monthaug -0.046323 -0.190937 -0.137065 -0.253859 -0.046323 -0.032724   \n",
      "monthdec -0.008295 -0.034190 -0.024543 -0.045456 -0.008295 -0.005860   \n",
      "monthfeb -0.012501 -0.051528 -0.036989 -0.068508 -0.012501 -0.008831   \n",
      "monthjan  1.000000 -0.016007 -0.011491 -0.021282 -0.003883 -0.002743   \n",
      "monthjul -0.016007  1.000000 -0.047363 -0.087722 -0.016007 -0.011308   \n",
      "monthjun -0.011491 -0.047363  1.000000 -0.062972 -0.011491 -0.008117   \n",
      "monthmar -0.021282 -0.087722 -0.062972  1.000000 -0.021282 -0.015034   \n",
      "monthmay -0.003883 -0.016007 -0.011491 -0.021282  1.000000 -0.002743   \n",
      "monthnov -0.002743 -0.011308 -0.008117 -0.015034 -0.002743  1.000000   \n",
      "monthoct -0.010772 -0.044402 -0.031874 -0.059034 -0.010772 -0.007610   \n",
      "monthsep -0.044001 -0.181367 -0.130195 -0.241135 -0.044001 -0.031083   \n",
      "\n",
      "          monthoct  monthsep  \n",
      "month     0.191895  0.473304  \n",
      "day      -0.032764 -0.022955  \n",
      "FFMC     -0.005998  0.076609  \n",
      "DMC      -0.187632  0.110907  \n",
      "DC        0.093279  0.531857  \n",
      "ISI      -0.071154 -0.068877  \n",
      "temp     -0.053513  0.088006  \n",
      "RH       -0.072334 -0.062596  \n",
      "wind     -0.053850 -0.181476  \n",
      "rain     -0.012665 -0.051733  \n",
      "area     -0.016878  0.056573  \n",
      "dayfri   -0.045585  0.107671  \n",
      "daymon    0.060975  0.039632  \n",
      "daysat    0.017584 -0.032783  \n",
      "daysun    0.007252 -0.048817  \n",
      "daythu   -0.063223  0.008984  \n",
      "daytue    0.005008 -0.028570  \n",
      "daywed    0.016325 -0.053222  \n",
      "monthapr -0.023008 -0.093982  \n",
      "monthaug -0.128493 -0.524858  \n",
      "monthdec -0.023008 -0.093982  \n",
      "monthfeb -0.034676 -0.141642  \n",
      "monthjan -0.010772 -0.044001  \n",
      "monthjul -0.044402 -0.181367  \n",
      "monthjun -0.031874 -0.130195  \n",
      "monthmar -0.059034 -0.241135  \n",
      "monthmay -0.010772 -0.044001  \n",
      "monthnov -0.007610 -0.031083  \n",
      "monthoct  1.000000 -0.122053  \n",
      "monthsep -0.122053  1.000000  \n",
      "\n",
      "[30 rows x 30 columns]\n"
     ]
    }
   ],
   "source": [
    "print(\"Correlation:\", forestfires.corr(method='pearson'))"
   ]
  },
  {
   "cell_type": "markdown",
   "id": "df4594c1",
   "metadata": {},
   "source": [
    "temp' has the highest correlation with the area of forest fire(which is a positive correlation), followed by 'RH' also a positive correlation, 'Rain' has the least correlation"
   ]
  },
  {
   "cell_type": "code",
   "execution_count": 149,
   "id": "512ebf59",
   "metadata": {},
   "outputs": [],
   "source": [
    "dataset = forestfires.values"
   ]
  },
  {
   "cell_type": "code",
   "execution_count": 53,
   "id": "f3ae8eda",
   "metadata": {},
   "outputs": [],
   "source": [
    "X = dataset[:,0:12]\n",
    "Y = dataset[:,12]"
   ]
  },
  {
   "cell_type": "code",
   "execution_count": 61,
   "id": "91d6198a",
   "metadata": {},
   "outputs": [],
   "source": [
    "from sklearn.ensemble import ExtraTreesRegressor\n",
    "from sklearn.feature_selection import RFE"
   ]
  },
  {
   "cell_type": "code",
   "execution_count": 68,
   "id": "095ff639",
   "metadata": {},
   "outputs": [
    {
     "name": "stdout",
     "output_type": "stream",
     "text": [
      "Number of Features:  3\n",
      "Selected Features:  [False  True False False False False False False False False  True  True]\n",
      "Feature Ranking:  [10  1  8  9  7  6  5  4  3  2  1  1]\n"
     ]
    }
   ],
   "source": [
    "#Feature Selection\n",
    "model = ExtraTreesRegressor()\n",
    "\n",
    "rfe = RFE(estimator=ExtraTreesRegressor(), n_features_to_select=3)\n",
    "\n",
    "fit = rfe.fit(X, Y)\n",
    "\n",
    "print(\"Number of Features: \", fit.n_features_)\n",
    "print(\"Selected Features: \", fit.support_)\n",
    "print(\"Feature Ranking: \", fit.ranking_) "
   ]
  },
  {
   "cell_type": "markdown",
   "id": "c76fa248",
   "metadata": {},
   "source": [
    "Wind', 'RH' and 'DMC' were top 3 selected features/feature combination for predicting 'Area' using Recursive Feature Elimination, the 2nd selected feature was atually one of the attributes with the highest correlation with the 'Area'"
   ]
  },
  {
   "cell_type": "code",
   "execution_count": 70,
   "id": "8935ec0b",
   "metadata": {},
   "outputs": [
    {
     "data": {
      "text/plain": [
       "(array([508.,   6.,   1.,   0.,   0.,   0.,   1.,   0.,   0.,   1.]),\n",
       " array([   0.   ,  109.084,  218.168,  327.252,  436.336,  545.42 ,\n",
       "         654.504,  763.588,  872.672,  981.756, 1090.84 ]),\n",
       " <BarContainer object of 10 artists>)"
      ]
     },
     "execution_count": 70,
     "metadata": {},
     "output_type": "execute_result"
    },
    {
     "data": {
      "image/png": "[encoded data removed]",
      "text/plain": [
       "<Figure size 432x288 with 1 Axes>"
      ]
     },
     "metadata": {
      "needs_background": "light"
     },
     "output_type": "display_data"
    }
   ],
   "source": [
    "import matplotlib.pyplot as plt\n",
    "plt.hist((forestfires.area))"
   ]
  },
  {
   "cell_type": "markdown",
   "id": "8816a247",
   "metadata": {},
   "source": [
    "Most of the dataset's samples fall between 0 and 200 of 'Area' output class, with majority being less than 100"
   ]
  },
  {
   "cell_type": "code",
   "execution_count": 92,
   "id": "930174f9",
   "metadata": {},
   "outputs": [],
   "source": [
    "import matplotlib.pyplot as plt\n",
    "import seaborn as sns"
   ]
  },
  {
   "cell_type": "code",
   "execution_count": 93,
   "id": "1f852503",
   "metadata": {},
   "outputs": [
    {
     "data": {
      "text/plain": [
       "array([[<AxesSubplot:title={'center':'month'}>,\n",
       "        <AxesSubplot:title={'center':'day'}>,\n",
       "        <AxesSubplot:title={'center':'FFMC'}>,\n",
       "        <AxesSubplot:title={'center':'DMC'}>,\n",
       "        <AxesSubplot:title={'center':'DC'}>],\n",
       "       [<AxesSubplot:title={'center':'ISI'}>,\n",
       "        <AxesSubplot:title={'center':'temp'}>,\n",
       "        <AxesSubplot:title={'center':'RH'}>,\n",
       "        <AxesSubplot:title={'center':'wind'}>,\n",
       "        <AxesSubplot:title={'center':'rain'}>],\n",
       "       [<AxesSubplot:title={'center':'area'}>,\n",
       "        <AxesSubplot:title={'center':'dayfri'}>,\n",
       "        <AxesSubplot:title={'center':'daymon'}>,\n",
       "        <AxesSubplot:title={'center':'daysat'}>,\n",
       "        <AxesSubplot:title={'center':'daysun'}>],\n",
       "       [<AxesSubplot:title={'center':'daythu'}>,\n",
       "        <AxesSubplot:title={'center':'daytue'}>,\n",
       "        <AxesSubplot:title={'center':'daywed'}>,\n",
       "        <AxesSubplot:title={'center':'monthapr'}>,\n",
       "        <AxesSubplot:title={'center':'monthaug'}>],\n",
       "       [<AxesSubplot:title={'center':'monthdec'}>,\n",
       "        <AxesSubplot:title={'center':'monthfeb'}>,\n",
       "        <AxesSubplot:title={'center':'monthjan'}>,\n",
       "        <AxesSubplot:title={'center':'monthjul'}>,\n",
       "        <AxesSubplot:title={'center':'monthjun'}>],\n",
       "       [<AxesSubplot:title={'center':'monthmar'}>,\n",
       "        <AxesSubplot:title={'center':'monthmay'}>,\n",
       "        <AxesSubplot:title={'center':'monthnov'}>,\n",
       "        <AxesSubplot:title={'center':'monthoct'}>,\n",
       "        <AxesSubplot:title={'center':'monthsep'}>]], dtype=object)"
      ]
     },
     "execution_count": 93,
     "metadata": {},
     "output_type": "execute_result"
    },
    {
     "data": {
      "image/png": "[encoded data removed]",
      "text/plain": [
       "<Figure size 432x288 with 30 Axes>"
      ]
     },
     "metadata": {
      "needs_background": "light"
     },
     "output_type": "display_data"
    }
   ],
   "source": [
    "forestfires.hist()"
   ]
  },
  {
   "cell_type": "markdown",
   "id": "a895c324",
   "metadata": {},
   "source": [
    "'Temp' has a near Guassian Distribution. There are a mixture of positive skews and negative skews among the other attributes"
   ]
  },
  {
   "cell_type": "code",
   "execution_count": 94,
   "id": "d99ca4f5",
   "metadata": {},
   "outputs": [
    {
     "data": {
      "text/plain": [
       "array([[<AxesSubplot:ylabel='Density'>, <AxesSubplot:ylabel='Density'>,\n",
       "        <AxesSubplot:ylabel='Density'>, <AxesSubplot:ylabel='Density'>,\n",
       "        <AxesSubplot:ylabel='Density'>, <AxesSubplot:ylabel='Density'>,\n",
       "        <AxesSubplot:ylabel='Density'>, <AxesSubplot:ylabel='Density'>,\n",
       "        <AxesSubplot:ylabel='Density'>, <AxesSubplot:ylabel='Density'>],\n",
       "       [<AxesSubplot:ylabel='Density'>, <AxesSubplot:ylabel='Density'>,\n",
       "        <AxesSubplot:ylabel='Density'>, <AxesSubplot:ylabel='Density'>,\n",
       "        <AxesSubplot:ylabel='Density'>, <AxesSubplot:ylabel='Density'>,\n",
       "        <AxesSubplot:ylabel='Density'>, <AxesSubplot:ylabel='Density'>,\n",
       "        <AxesSubplot:ylabel='Density'>, <AxesSubplot:ylabel='Density'>],\n",
       "       [<AxesSubplot:ylabel='Density'>, <AxesSubplot:ylabel='Density'>,\n",
       "        <AxesSubplot:ylabel='Density'>, <AxesSubplot:ylabel='Density'>,\n",
       "        <AxesSubplot:ylabel='Density'>, <AxesSubplot:ylabel='Density'>,\n",
       "        <AxesSubplot:ylabel='Density'>, <AxesSubplot:ylabel='Density'>,\n",
       "        <AxesSubplot:ylabel='Density'>, <AxesSubplot:ylabel='Density'>],\n",
       "       [<AxesSubplot:ylabel='Density'>, <AxesSubplot:ylabel='Density'>,\n",
       "        <AxesSubplot:ylabel='Density'>, <AxesSubplot:ylabel='Density'>,\n",
       "        <AxesSubplot:ylabel='Density'>, <AxesSubplot:ylabel='Density'>,\n",
       "        <AxesSubplot:ylabel='Density'>, <AxesSubplot:ylabel='Density'>,\n",
       "        <AxesSubplot:ylabel='Density'>, <AxesSubplot:ylabel='Density'>],\n",
       "       [<AxesSubplot:ylabel='Density'>, <AxesSubplot:ylabel='Density'>,\n",
       "        <AxesSubplot:ylabel='Density'>, <AxesSubplot:ylabel='Density'>,\n",
       "        <AxesSubplot:ylabel='Density'>, <AxesSubplot:ylabel='Density'>,\n",
       "        <AxesSubplot:ylabel='Density'>, <AxesSubplot:ylabel='Density'>,\n",
       "        <AxesSubplot:ylabel='Density'>, <AxesSubplot:ylabel='Density'>],\n",
       "       [<AxesSubplot:ylabel='Density'>, <AxesSubplot:ylabel='Density'>,\n",
       "        <AxesSubplot:ylabel='Density'>, <AxesSubplot:ylabel='Density'>,\n",
       "        <AxesSubplot:ylabel='Density'>, <AxesSubplot:ylabel='Density'>,\n",
       "        <AxesSubplot:ylabel='Density'>, <AxesSubplot:ylabel='Density'>,\n",
       "        <AxesSubplot:ylabel='Density'>, <AxesSubplot:ylabel='Density'>],\n",
       "       [<AxesSubplot:ylabel='Density'>, <AxesSubplot:ylabel='Density'>,\n",
       "        <AxesSubplot:ylabel='Density'>, <AxesSubplot:ylabel='Density'>,\n",
       "        <AxesSubplot:ylabel='Density'>, <AxesSubplot:ylabel='Density'>,\n",
       "        <AxesSubplot:ylabel='Density'>, <AxesSubplot:ylabel='Density'>,\n",
       "        <AxesSubplot:ylabel='Density'>, <AxesSubplot:ylabel='Density'>],\n",
       "       [<AxesSubplot:ylabel='Density'>, <AxesSubplot:ylabel='Density'>,\n",
       "        <AxesSubplot:ylabel='Density'>, <AxesSubplot:ylabel='Density'>,\n",
       "        <AxesSubplot:ylabel='Density'>, <AxesSubplot:ylabel='Density'>,\n",
       "        <AxesSubplot:ylabel='Density'>, <AxesSubplot:ylabel='Density'>,\n",
       "        <AxesSubplot:ylabel='Density'>, <AxesSubplot:ylabel='Density'>],\n",
       "       [<AxesSubplot:ylabel='Density'>, <AxesSubplot:ylabel='Density'>,\n",
       "        <AxesSubplot:ylabel='Density'>, <AxesSubplot:ylabel='Density'>,\n",
       "        <AxesSubplot:ylabel='Density'>, <AxesSubplot:ylabel='Density'>,\n",
       "        <AxesSubplot:ylabel='Density'>, <AxesSubplot:ylabel='Density'>,\n",
       "        <AxesSubplot:ylabel='Density'>, <AxesSubplot:ylabel='Density'>],\n",
       "       [<AxesSubplot:ylabel='Density'>, <AxesSubplot:ylabel='Density'>,\n",
       "        <AxesSubplot:ylabel='Density'>, <AxesSubplot:ylabel='Density'>,\n",
       "        <AxesSubplot:ylabel='Density'>, <AxesSubplot:ylabel='Density'>,\n",
       "        <AxesSubplot:ylabel='Density'>, <AxesSubplot:ylabel='Density'>,\n",
       "        <AxesSubplot:ylabel='Density'>, <AxesSubplot:ylabel='Density'>]],\n",
       "      dtype=object)"
      ]
     },
     "execution_count": 94,
     "metadata": {},
     "output_type": "execute_result"
    },
    {
     "data": {
      "image/png": "[encoded data removed]",
      "text/plain": [
       "<Figure size 432x288 with 100 Axes>"
      ]
     },
     "metadata": {
      "needs_background": "light"
     },
     "output_type": "display_data"
    }
   ],
   "source": [
    "forestfires.plot(kind='density', subplots=True, layout=(10,10), sharex=False, sharey=False)"
   ]
  },
  {
   "cell_type": "code",
   "execution_count": 95,
   "id": "6520662f",
   "metadata": {},
   "outputs": [
    {
     "data": {
      "text/plain": [
       "month          AxesSubplot(0.125,0.816017;0.065678x0.0639831)\n",
       "day         AxesSubplot(0.203814,0.816017;0.065678x0.0639831)\n",
       "FFMC        AxesSubplot(0.282627,0.816017;0.065678x0.0639831)\n",
       "DMC         AxesSubplot(0.361441,0.816017;0.065678x0.0639831)\n",
       "DC          AxesSubplot(0.440254,0.816017;0.065678x0.0639831)\n",
       "ISI         AxesSubplot(0.519068,0.816017;0.065678x0.0639831)\n",
       "temp        AxesSubplot(0.597881,0.816017;0.065678x0.0639831)\n",
       "RH          AxesSubplot(0.676695,0.816017;0.065678x0.0639831)\n",
       "wind        AxesSubplot(0.755508,0.816017;0.065678x0.0639831)\n",
       "rain        AxesSubplot(0.834322,0.816017;0.065678x0.0639831)\n",
       "area           AxesSubplot(0.125,0.739237;0.065678x0.0639831)\n",
       "dayfri      AxesSubplot(0.203814,0.739237;0.065678x0.0639831)\n",
       "daymon      AxesSubplot(0.282627,0.739237;0.065678x0.0639831)\n",
       "daysat      AxesSubplot(0.361441,0.739237;0.065678x0.0639831)\n",
       "daysun      AxesSubplot(0.440254,0.739237;0.065678x0.0639831)\n",
       "daythu      AxesSubplot(0.519068,0.739237;0.065678x0.0639831)\n",
       "daytue      AxesSubplot(0.597881,0.739237;0.065678x0.0639831)\n",
       "daywed      AxesSubplot(0.676695,0.739237;0.065678x0.0639831)\n",
       "monthapr    AxesSubplot(0.755508,0.739237;0.065678x0.0639831)\n",
       "monthaug    AxesSubplot(0.834322,0.739237;0.065678x0.0639831)\n",
       "monthdec       AxesSubplot(0.125,0.662458;0.065678x0.0639831)\n",
       "monthfeb    AxesSubplot(0.203814,0.662458;0.065678x0.0639831)\n",
       "monthjan    AxesSubplot(0.282627,0.662458;0.065678x0.0639831)\n",
       "monthjul    AxesSubplot(0.361441,0.662458;0.065678x0.0639831)\n",
       "monthjun    AxesSubplot(0.440254,0.662458;0.065678x0.0639831)\n",
       "monthmar    AxesSubplot(0.519068,0.662458;0.065678x0.0639831)\n",
       "monthmay    AxesSubplot(0.597881,0.662458;0.065678x0.0639831)\n",
       "monthnov    AxesSubplot(0.676695,0.662458;0.065678x0.0639831)\n",
       "monthoct    AxesSubplot(0.755508,0.662458;0.065678x0.0639831)\n",
       "monthsep    AxesSubplot(0.834322,0.662458;0.065678x0.0639831)\n",
       "dtype: object"
      ]
     },
     "execution_count": 95,
     "metadata": {},
     "output_type": "execute_result"
    },
    {
     "data": {
      "image/png": "[encoded data removed]",
      "text/plain": [
       "<Figure size 432x288 with 100 Axes>"
      ]
     },
     "metadata": {
      "needs_background": "light"
     },
     "output_type": "display_data"
    }
   ],
   "source": [
    "forestfires.plot(kind='box', subplots=True, layout=(10,10), sharex=False, sharey=False)"
   ]
  },
  {
   "cell_type": "code",
   "execution_count": 99,
   "id": "72fb5679",
   "metadata": {},
   "outputs": [
    {
     "data": {
      "text/plain": [
       "[Text(0, 0, 'month'),\n",
       " Text(0, 1, 'day'),\n",
       " Text(0, 2, 'FFMC'),\n",
       " Text(0, 3, 'DMC'),\n",
       " Text(0, 4, 'DC'),\n",
       " Text(0, 5, 'ISI'),\n",
       " Text(0, 6, 'temp'),\n",
       " Text(0, 7, 'RH'),\n",
       " Text(0, 8, 'wind'),\n",
       " Text(0, 9, 'rain'),\n",
       " Text(0, 10, 'area'),\n",
       " Text(0, 11, 'dayfri'),\n",
       " Text(0, 12, 'daymon'),\n",
       " Text(0, 13, 'daysat'),\n",
       " Text(0, 14, 'daysun'),\n",
       " Text(0, 15, 'daythu'),\n",
       " Text(0, 16, 'daytue'),\n",
       " Text(0, 17, 'daywed'),\n",
       " Text(0, 18, 'monthapr'),\n",
       " Text(0, 19, 'monthaug'),\n",
       " Text(0, 20, 'monthdec'),\n",
       " Text(0, 21, 'monthfeb'),\n",
       " Text(0, 22, 'monthjan'),\n",
       " Text(0, 23, 'monthjul'),\n",
       " Text(0, 24, 'monthjun'),\n",
       " Text(0, 25, 'monthmar'),\n",
       " Text(0, 26, 'monthmay'),\n",
       " Text(0, 27, 'monthnov'),\n",
       " Text(0, 28, 'monthoct'),\n",
       " Text(0, 29, 'monthsep'),\n",
       " Text(0, 30, 'size_category')]"
      ]
     },
     "execution_count": 99,
     "metadata": {},
     "output_type": "execute_result"
    },
    {
     "data": {
      "image/png": "[encoded data removed]",
      "text/plain": [
       "<Figure size 432x288 with 2 Axes>"
      ]
     },
     "metadata": {
      "needs_background": "light"
     },
     "output_type": "display_data"
    }
   ],
   "source": [
    "fig = plt.figure()\n",
    "ax = fig.add_subplot(111)\n",
    "cax = ax.matshow(forestfires.corr(), vmin=-1, vmax=1)\n",
    "fig.colorbar(cax)\n",
    "ticks = numpy.arange(0,31,1)\n",
    "ax.set_xticks(ticks)\n",
    "ax.set_yticks(ticks)\n",
    "ax.set_xticklabels(forestfires.columns)\n",
    "ax.set_yticklabels(forestfires.columns)"
   ]
  },
  {
   "cell_type": "markdown",
   "id": "716a1d34",
   "metadata": {},
   "source": [
    "'cement' has the highest positive corelation as expected"
   ]
  },
  {
   "cell_type": "code",
   "execution_count": 100,
   "id": "7e77ac3b",
   "metadata": {},
   "outputs": [],
   "source": [
    "num_instances = len(X)"
   ]
  },
  {
   "cell_type": "code",
   "execution_count": 103,
   "id": "a8a9682a",
   "metadata": {},
   "outputs": [],
   "source": [
    "import matplotlib.pyplot as plt\n",
    "\n",
    "from sklearn.preprocessing import MinMaxScaler\n",
    "from sklearn.linear_model import LinearRegression\n",
    "from sklearn.linear_model import Ridge\n",
    "from sklearn.linear_model import Lasso\n",
    "from sklearn.linear_model import ElasticNet\n",
    "from sklearn.ensemble import BaggingRegressor\n",
    "from sklearn.ensemble import RandomForestRegressor\n",
    "from sklearn.ensemble import ExtraTreesRegressor\n",
    "from sklearn.tree import DecisionTreeRegressor\n",
    "from sklearn.neighbors import KNeighborsRegressor\n",
    "from sklearn.svm import SVR\n",
    "\n",
    "from sklearn.metrics import explained_variance_score\n",
    "from sklearn.metrics import mean_absolute_error"
   ]
  },
  {
   "cell_type": "code",
   "execution_count": 112,
   "id": "db2caeda",
   "metadata": {},
   "outputs": [],
   "source": [
    "from keras.models import Sequential\n",
    "from keras.layers import Dense\n",
    "from keras.layers import Dropout\n",
    "from keras.utils import np_utils\n",
    "from keras.constraints import maxnorm\n",
    "from sklearn.preprocessing import MinMaxScaler\n",
    "from sklearn.metrics import mean_squared_error\n",
    "from keras.wrappers.scikit_learn import KerasRegressor\n",
    "from sklearn.model_selection import cross_val_score\n",
    "from sklearn.model_selection import KFold\n",
    "from sklearn.preprocessing import StandardScaler\n"
   ]
  },
  {
   "cell_type": "code",
   "execution_count": 117,
   "id": "226e17fc",
   "metadata": {},
   "outputs": [],
   "source": [
    "models = []\n",
    "models.append(('LiR', LinearRegression()))\n",
    "models.append(('Ridge', Ridge()))\n",
    "models.append(('Lasso', Lasso()))\n",
    "models.append(('ElasticNet', ElasticNet()))\n",
    "models.append(('Bag_Re', BaggingRegressor()))\n",
    "models.append(('RandomForest', RandomForestRegressor()))\n",
    "models.append(('ExtraTreesRegressor', ExtraTreesRegressor()))\n",
    "models.append(('KNN', KNeighborsRegressor()))\n",
    "models.append(('CART', DecisionTreeRegressor()))\n",
    "models.append(('SVM', SVR()))"
   ]
  },
  {
   "cell_type": "code",
   "execution_count": 118,
   "id": "92ab3fb0",
   "metadata": {},
   "outputs": [],
   "source": [
    "# Evaluations\n",
    "results = []\n",
    "names = []\n",
    "scoring = []"
   ]
  },
  {
   "cell_type": "code",
   "execution_count": 119,
   "id": "3350c1d5",
   "metadata": {},
   "outputs": [],
   "source": [
    "for name, model in models:\n",
    "    # Fit the model\n",
    "    model.fit(X, Y)\n",
    "    predictions = model.predict(X)"
   ]
  },
  {
   "cell_type": "code",
   "execution_count": 120,
   "id": "042fb39f",
   "metadata": {},
   "outputs": [
    {
     "name": "stdout",
     "output_type": "stream",
     "text": [
      "SVM: 0.007164 (0.213090)\n"
     ]
    }
   ],
   "source": [
    "# Evaluate the model\n",
    "score = explained_variance_score(Y, predictions)\n",
    "mae = mean_absolute_error(predictions, Y)\n",
    "# print(\"%s: %.2f%%\" % (model.metrics_names[1], scores[1]*100))\n",
    "results.append(mae)\n",
    "names.append(name)\n",
    "    \n",
    "msg = \"%s: %f (%f)\" % (name, score, mae)\n",
    "print(msg)"
   ]
  },
  {
   "cell_type": "code",
   "execution_count": 122,
   "id": "2c763b67",
   "metadata": {},
   "outputs": [
    {
     "name": "stdout",
     "output_type": "stream",
     "text": [
      "LiR: 0.447533 (0.201420)\n"
     ]
    }
   ],
   "source": [
    "models = []\n",
    "models.append(('LiR', LinearRegression()))\n",
    "for name, model in models:\n",
    "    # Fit the model\n",
    "    model.fit(X, Y)\n",
    "    predictions = model.predict(X)\n",
    "score = explained_variance_score(Y, predictions)\n",
    "mae = mean_absolute_error(predictions, Y)\n",
    "# print(\"%s: %.2f%%\" % (model.metrics_names[1], scores[1]*100))\n",
    "results.append(mae)\n",
    "names.append(name)    \n",
    "msg = \"%s: %f (%f)\" % (name, score, mae)\n",
    "print(msg)"
   ]
  },
  {
   "cell_type": "code",
   "execution_count": 131,
   "id": "3b0c7e99",
   "metadata": {},
   "outputs": [
    {
     "name": "stdout",
     "output_type": "stream",
     "text": [
      "ExtraTreesRegressor: 1.000000 (0.000000)\n"
     ]
    }
   ],
   "source": [
    "models = []\n",
    "models.append(('ExtraTreesRegressor', ExtraTreesRegressor()))\n",
    "for name, model in models:\n",
    "    # Fit the model\n",
    "    model.fit(X, Y)\n",
    "    predictions = model.predict(X)\n",
    "score = explained_variance_score(Y, predictions)\n",
    "mae = mean_absolute_error(predictions, Y)\n",
    "# print(\"%s: %.2f%%\" % (model.metrics_names[1], scores[1]*100))\n",
    "results.append(mae)\n",
    "names.append(name)    \n",
    "msg = (\"%s: %f (%f)\" % (name, score, mae))\n",
    "print(\"%s: %f (%f)\" % (name, score, mae))"
   ]
  },
  {
   "cell_type": "code",
   "execution_count": null,
   "id": "e6e83324",
   "metadata": {},
   "outputs": [],
   "source": []
  },
  {
   "cell_type": "markdown",
   "id": "aac2e7b7",
   "metadata": {},
   "source": [
    "Problem statement: predicting turbine energy yield (TEY) using ambient variables as features.\n",
    "\n",
    "\n",
    "\n",
    "Attribute Information:\n",
    "\n",
    "The explanations of sensor measurements and their brief statistics are given below.\n",
    "\n",
    "Variable (Abbr.) Unit Min Max Mean\n",
    "Ambient temperature (AT) C â€“6.23 37.10 17.71\n",
    "Ambient pressure (AP) mbar 985.85 1036.56 1013.07\n",
    "Ambient humidity (AH) (%) 24.08 100.20 77.87\n",
    "Air filter difference pressure (AFDP) mbar 2.09 7.61 3.93\n",
    "Gas turbine exhaust pressure (GTEP) mbar 17.70 40.72 25.56\n",
    "Turbine inlet temperature (TIT) C 1000.85 1100.89 1081.43\n",
    "Turbine after temperature (TAT) C 511.04 550.61 546.16\n",
    "Compressor discharge pressure (CDP) mbar 9.85 15.16 12.06\n",
    "Turbine energy yield (TEY) MWH 100.02 179.50 133.51\n",
    "Carbon monoxide (CO) mg/m3 0.00 44.10 2.37\n",
    "Nitrogen oxides (NOx) mg/m3 25.90 119.91 65.29"
   ]
  },
  {
   "cell_type": "markdown",
   "id": "ebad8e4c",
   "metadata": {},
   "source": [
    "# For gas turbines datasets"
   ]
  },
  {
   "cell_type": "code",
   "execution_count": 134,
   "id": "8ce27133",
   "metadata": {},
   "outputs": [],
   "source": [
    "# fix random seed for reproducibility\n",
    "seed = 7\n",
    "numpy.random.seed(seed)"
   ]
  },
  {
   "cell_type": "code",
   "execution_count": 135,
   "id": "9fa37c4e",
   "metadata": {},
   "outputs": [],
   "source": [
    "import pandas as pd"
   ]
  },
  {
   "cell_type": "code",
   "execution_count": 204,
   "id": "177e577a",
   "metadata": {},
   "outputs": [
    {
     "data": {
      "text/html": [
       "<div>\n",
       "<style scoped>\n",
       "    .dataframe tbody tr th:only-of-type {\n",
       "        vertical-align: middle;\n",
       "    }\n",
       "\n",
       "    .dataframe tbody tr th {\n",
       "        vertical-align: top;\n",
       "    }\n",
       "\n",
       "    .dataframe thead th {\n",
       "        text-align: right;\n",
       "    }\n",
       "</style>\n",
       "<table border=\"1\" class=\"dataframe\">\n",
       "  <thead>\n",
       "    <tr style=\"text-align: right;\">\n",
       "      <th></th>\n",
       "      <th>AT</th>\n",
       "      <th>AP</th>\n",
       "      <th>AH</th>\n",
       "      <th>AFDP</th>\n",
       "      <th>GTEP</th>\n",
       "      <th>TIT</th>\n",
       "      <th>TAT</th>\n",
       "      <th>TEY</th>\n",
       "      <th>CDP</th>\n",
       "      <th>CO</th>\n",
       "      <th>NOX</th>\n",
       "    </tr>\n",
       "  </thead>\n",
       "  <tbody>\n",
       "    <tr>\n",
       "      <th>0</th>\n",
       "      <td>6.8594</td>\n",
       "      <td>1007.9</td>\n",
       "      <td>96.799</td>\n",
       "      <td>3.5000</td>\n",
       "      <td>19.663</td>\n",
       "      <td>1059.2</td>\n",
       "      <td>550.00</td>\n",
       "      <td>114.70</td>\n",
       "      <td>10.605</td>\n",
       "      <td>3.1547</td>\n",
       "      <td>82.722</td>\n",
       "    </tr>\n",
       "    <tr>\n",
       "      <th>1</th>\n",
       "      <td>6.7850</td>\n",
       "      <td>1008.4</td>\n",
       "      <td>97.118</td>\n",
       "      <td>3.4998</td>\n",
       "      <td>19.728</td>\n",
       "      <td>1059.3</td>\n",
       "      <td>550.00</td>\n",
       "      <td>114.72</td>\n",
       "      <td>10.598</td>\n",
       "      <td>3.2363</td>\n",
       "      <td>82.776</td>\n",
       "    </tr>\n",
       "    <tr>\n",
       "      <th>2</th>\n",
       "      <td>6.8977</td>\n",
       "      <td>1008.8</td>\n",
       "      <td>95.939</td>\n",
       "      <td>3.4824</td>\n",
       "      <td>19.779</td>\n",
       "      <td>1059.4</td>\n",
       "      <td>549.87</td>\n",
       "      <td>114.71</td>\n",
       "      <td>10.601</td>\n",
       "      <td>3.2012</td>\n",
       "      <td>82.468</td>\n",
       "    </tr>\n",
       "    <tr>\n",
       "      <th>3</th>\n",
       "      <td>7.0569</td>\n",
       "      <td>1009.2</td>\n",
       "      <td>95.249</td>\n",
       "      <td>3.4805</td>\n",
       "      <td>19.792</td>\n",
       "      <td>1059.6</td>\n",
       "      <td>549.99</td>\n",
       "      <td>114.72</td>\n",
       "      <td>10.606</td>\n",
       "      <td>3.1923</td>\n",
       "      <td>82.670</td>\n",
       "    </tr>\n",
       "    <tr>\n",
       "      <th>4</th>\n",
       "      <td>7.3978</td>\n",
       "      <td>1009.7</td>\n",
       "      <td>95.150</td>\n",
       "      <td>3.4976</td>\n",
       "      <td>19.765</td>\n",
       "      <td>1059.7</td>\n",
       "      <td>549.98</td>\n",
       "      <td>114.72</td>\n",
       "      <td>10.612</td>\n",
       "      <td>3.2484</td>\n",
       "      <td>82.311</td>\n",
       "    </tr>\n",
       "  </tbody>\n",
       "</table>\n",
       "</div>"
      ],
      "text/plain": [
       "       AT      AP      AH    AFDP    GTEP     TIT     TAT     TEY     CDP  \\\n",
       "0  6.8594  1007.9  96.799  3.5000  19.663  1059.2  550.00  114.70  10.605   \n",
       "1  6.7850  1008.4  97.118  3.4998  19.728  1059.3  550.00  114.72  10.598   \n",
       "2  6.8977  1008.8  95.939  3.4824  19.779  1059.4  549.87  114.71  10.601   \n",
       "3  7.0569  1009.2  95.249  3.4805  19.792  1059.6  549.99  114.72  10.606   \n",
       "4  7.3978  1009.7  95.150  3.4976  19.765  1059.7  549.98  114.72  10.612   \n",
       "\n",
       "       CO     NOX  \n",
       "0  3.1547  82.722  \n",
       "1  3.2363  82.776  \n",
       "2  3.2012  82.468  \n",
       "3  3.1923  82.670  \n",
       "4  3.2484  82.311  "
      ]
     },
     "execution_count": 204,
     "metadata": {},
     "output_type": "execute_result"
    }
   ],
   "source": [
    "dataset= pd.read_csv(\"C:\\\\Users\\\\Swetha\\\\Desktop\\\\EXCELR\\\\DS - ASSIGNMENT\\\\NEURAL NETWORKS\\\\gas_turbines.csv\")\n",
    "dataset.head()"
   ]
  },
  {
   "cell_type": "code",
   "execution_count": 205,
   "id": "fe98a6a4",
   "metadata": {},
   "outputs": [
    {
     "data": {
      "text/plain": [
       "(15039, 11)"
      ]
     },
     "execution_count": 205,
     "metadata": {},
     "output_type": "execute_result"
    }
   ],
   "source": [
    "dataset.shape"
   ]
  },
  {
   "cell_type": "code",
   "execution_count": 206,
   "id": "8c0038ff",
   "metadata": {},
   "outputs": [
    {
     "name": "stdout",
     "output_type": "stream",
     "text": [
      "Shape: (15039, 11)\n"
     ]
    }
   ],
   "source": [
    "print(\"Shape:\", dataset.shape)"
   ]
  },
  {
   "cell_type": "code",
   "execution_count": 207,
   "id": "185eed10",
   "metadata": {},
   "outputs": [
    {
     "name": "stdout",
     "output_type": "stream",
     "text": [
      "Data Types: AT      float64\n",
      "AP      float64\n",
      "AH      float64\n",
      "AFDP    float64\n",
      "GTEP    float64\n",
      "TIT     float64\n",
      "TAT     float64\n",
      "TEY     float64\n",
      "CDP     float64\n",
      "CO      float64\n",
      "NOX     float64\n",
      "dtype: object\n"
     ]
    }
   ],
   "source": [
    "print(\"Data Types:\", dataset.dtypes)"
   ]
  },
  {
   "cell_type": "code",
   "execution_count": 208,
   "id": "384bbe43",
   "metadata": {},
   "outputs": [
    {
     "name": "stdout",
     "output_type": "stream",
     "text": [
      "Statistical Description:                  AT           AP            AH          AFDP          GTEP  \\\n",
      "count  15039.000000  15039.00000  15039.000000  15039.000000  15039.000000   \n",
      "mean      17.764381   1013.19924     79.124174      4.200294     25.419061   \n",
      "std        7.574323      6.41076     13.793439      0.760197      4.173916   \n",
      "min        0.522300    985.85000     30.344000      2.087400     17.878000   \n",
      "25%       11.408000   1008.90000     69.750000      3.723900     23.294000   \n",
      "50%       18.186000   1012.80000     82.266000      4.186200     25.082000   \n",
      "75%       23.862500   1016.90000     90.043500      4.550900     27.184000   \n",
      "max       34.929000   1034.20000    100.200000      7.610600     37.402000   \n",
      "\n",
      "                TIT           TAT           TEY           CDP            CO  \\\n",
      "count  15039.000000  15039.000000  15039.000000  15039.000000  15039.000000   \n",
      "mean    1083.798770    545.396183    134.188464     12.102353      1.972499   \n",
      "std       16.527806      7.866803     15.829717      1.103196      2.222206   \n",
      "min     1000.800000    512.450000    100.170000      9.904400      0.000388   \n",
      "25%     1079.600000    542.170000    127.985000     11.622000      0.858055   \n",
      "50%     1088.700000    549.890000    133.780000     12.025000      1.390200   \n",
      "75%     1096.000000    550.060000    140.895000     12.578000      2.160400   \n",
      "max     1100.800000    550.610000    174.610000     15.081000     44.103000   \n",
      "\n",
      "                NOX  \n",
      "count  15039.000000  \n",
      "mean      68.190934  \n",
      "std       10.470586  \n",
      "min       27.765000  \n",
      "25%       61.303500  \n",
      "50%       66.601000  \n",
      "75%       73.935500  \n",
      "max      119.890000  \n"
     ]
    }
   ],
   "source": [
    "print(\"Statistical Description:\", dataset.describe())"
   ]
  },
  {
   "cell_type": "code",
   "execution_count": 209,
   "id": "58ac8c6a",
   "metadata": {},
   "outputs": [
    {
     "name": "stdout",
     "output_type": "stream",
     "text": [
      "Correlation:             AT        AP        AH      AFDP      GTEP       TIT       TAT  \\\n",
      "AT    1.000000 -0.412953 -0.549432 -0.099333 -0.049103  0.093067  0.338569   \n",
      "AP   -0.412953  1.000000  0.042573  0.040318  0.078575  0.029650 -0.223479   \n",
      "AH   -0.549432  0.042573  1.000000 -0.119249 -0.202784 -0.247781  0.010859   \n",
      "AFDP -0.099333  0.040318 -0.119249  1.000000  0.744251  0.627254 -0.571541   \n",
      "GTEP -0.049103  0.078575 -0.202784  0.744251  1.000000  0.874526 -0.756884   \n",
      "TIT   0.093067  0.029650 -0.247781  0.627254  0.874526  1.000000 -0.357320   \n",
      "TAT   0.338569 -0.223479  0.010859 -0.571541 -0.756884 -0.357320  1.000000   \n",
      "TEY  -0.207495  0.146939 -0.110272  0.717995  0.977042  0.891587 -0.720356   \n",
      "CDP  -0.100705  0.131198 -0.182010  0.727152  0.993784  0.887238 -0.744740   \n",
      "CO   -0.088588  0.041614  0.165505 -0.334207 -0.508259 -0.688272  0.063404   \n",
      "NOX  -0.600006  0.256744  0.143061 -0.037299 -0.208496 -0.231636  0.009888   \n",
      "\n",
      "           TEY       CDP        CO       NOX  \n",
      "AT   -0.207495 -0.100705 -0.088588 -0.600006  \n",
      "AP    0.146939  0.131198  0.041614  0.256744  \n",
      "AH   -0.110272 -0.182010  0.165505  0.143061  \n",
      "AFDP  0.717995  0.727152 -0.334207 -0.037299  \n",
      "GTEP  0.977042  0.993784 -0.508259 -0.208496  \n",
      "TIT   0.891587  0.887238 -0.688272 -0.231636  \n",
      "TAT  -0.720356 -0.744740  0.063404  0.009888  \n",
      "TEY   1.000000  0.988473 -0.541751 -0.102631  \n",
      "CDP   0.988473  1.000000 -0.520783 -0.169103  \n",
      "CO   -0.541751 -0.520783  1.000000  0.316743  \n",
      "NOX  -0.102631 -0.169103  0.316743  1.000000  \n"
     ]
    }
   ],
   "source": [
    "print(\"Correlation:\", dataset.corr(method='pearson'))"
   ]
  },
  {
   "cell_type": "code",
   "execution_count": 253,
   "id": "31c8f746",
   "metadata": {},
   "outputs": [
    {
     "ename": "TypeError",
     "evalue": "'(slice(None, None, None), slice(0, 2, None))' is an invalid key",
     "output_type": "error",
     "traceback": [
      "\u001b[1;31m---------------------------------------------------------------------------\u001b[0m",
      "\u001b[1;31mTypeError\u001b[0m                                 Traceback (most recent call last)",
      "\u001b[1;32m~\\AppData\\Local\\Temp/ipykernel_27208/3510159040.py\u001b[0m in \u001b[0;36m<module>\u001b[1;34m\u001b[0m\n\u001b[1;32m----> 1\u001b[1;33m \u001b[0mX\u001b[0m \u001b[1;33m=\u001b[0m \u001b[0mdataset\u001b[0m\u001b[1;33m[\u001b[0m\u001b[1;33m:\u001b[0m\u001b[1;33m,\u001b[0m\u001b[1;36m0\u001b[0m\u001b[1;33m:\u001b[0m\u001b[1;36m2\u001b[0m\u001b[1;33m]\u001b[0m\u001b[1;33m\u001b[0m\u001b[1;33m\u001b[0m\u001b[0m\n\u001b[0m\u001b[0;32m      2\u001b[0m \u001b[0mY\u001b[0m \u001b[1;33m=\u001b[0m \u001b[0mdataset\u001b[0m\u001b[1;33m[\u001b[0m\u001b[1;33m:\u001b[0m\u001b[1;33m,\u001b[0m\u001b[1;36m10\u001b[0m\u001b[1;33m]\u001b[0m\u001b[1;33m\u001b[0m\u001b[1;33m\u001b[0m\u001b[0m\n",
      "\u001b[1;32m~\\anaconda3\\lib\\site-packages\\pandas\\core\\frame.py\u001b[0m in \u001b[0;36m__getitem__\u001b[1;34m(self, key)\u001b[0m\n\u001b[0;32m   3456\u001b[0m             \u001b[1;32mif\u001b[0m \u001b[0mself\u001b[0m\u001b[1;33m.\u001b[0m\u001b[0mcolumns\u001b[0m\u001b[1;33m.\u001b[0m\u001b[0mnlevels\u001b[0m \u001b[1;33m>\u001b[0m \u001b[1;36m1\u001b[0m\u001b[1;33m:\u001b[0m\u001b[1;33m\u001b[0m\u001b[1;33m\u001b[0m\u001b[0m\n\u001b[0;32m   3457\u001b[0m                 \u001b[1;32mreturn\u001b[0m \u001b[0mself\u001b[0m\u001b[1;33m.\u001b[0m\u001b[0m_getitem_multilevel\u001b[0m\u001b[1;33m(\u001b[0m\u001b[0mkey\u001b[0m\u001b[1;33m)\u001b[0m\u001b[1;33m\u001b[0m\u001b[1;33m\u001b[0m\u001b[0m\n\u001b[1;32m-> 3458\u001b[1;33m             \u001b[0mindexer\u001b[0m \u001b[1;33m=\u001b[0m \u001b[0mself\u001b[0m\u001b[1;33m.\u001b[0m\u001b[0mcolumns\u001b[0m\u001b[1;33m.\u001b[0m\u001b[0mget_loc\u001b[0m\u001b[1;33m(\u001b[0m\u001b[0mkey\u001b[0m\u001b[1;33m)\u001b[0m\u001b[1;33m\u001b[0m\u001b[1;33m\u001b[0m\u001b[0m\n\u001b[0m\u001b[0;32m   3459\u001b[0m             \u001b[1;32mif\u001b[0m \u001b[0mis_integer\u001b[0m\u001b[1;33m(\u001b[0m\u001b[0mindexer\u001b[0m\u001b[1;33m)\u001b[0m\u001b[1;33m:\u001b[0m\u001b[1;33m\u001b[0m\u001b[1;33m\u001b[0m\u001b[0m\n\u001b[0;32m   3460\u001b[0m                 \u001b[0mindexer\u001b[0m \u001b[1;33m=\u001b[0m \u001b[1;33m[\u001b[0m\u001b[0mindexer\u001b[0m\u001b[1;33m]\u001b[0m\u001b[1;33m\u001b[0m\u001b[1;33m\u001b[0m\u001b[0m\n",
      "\u001b[1;32m~\\anaconda3\\lib\\site-packages\\pandas\\core\\indexes\\base.py\u001b[0m in \u001b[0;36mget_loc\u001b[1;34m(self, key, method, tolerance)\u001b[0m\n\u001b[0;32m   3359\u001b[0m             \u001b[0mcasted_key\u001b[0m \u001b[1;33m=\u001b[0m \u001b[0mself\u001b[0m\u001b[1;33m.\u001b[0m\u001b[0m_maybe_cast_indexer\u001b[0m\u001b[1;33m(\u001b[0m\u001b[0mkey\u001b[0m\u001b[1;33m)\u001b[0m\u001b[1;33m\u001b[0m\u001b[1;33m\u001b[0m\u001b[0m\n\u001b[0;32m   3360\u001b[0m             \u001b[1;32mtry\u001b[0m\u001b[1;33m:\u001b[0m\u001b[1;33m\u001b[0m\u001b[1;33m\u001b[0m\u001b[0m\n\u001b[1;32m-> 3361\u001b[1;33m                 \u001b[1;32mreturn\u001b[0m \u001b[0mself\u001b[0m\u001b[1;33m.\u001b[0m\u001b[0m_engine\u001b[0m\u001b[1;33m.\u001b[0m\u001b[0mget_loc\u001b[0m\u001b[1;33m(\u001b[0m\u001b[0mcasted_key\u001b[0m\u001b[1;33m)\u001b[0m\u001b[1;33m\u001b[0m\u001b[1;33m\u001b[0m\u001b[0m\n\u001b[0m\u001b[0;32m   3362\u001b[0m             \u001b[1;32mexcept\u001b[0m \u001b[0mKeyError\u001b[0m \u001b[1;32mas\u001b[0m \u001b[0merr\u001b[0m\u001b[1;33m:\u001b[0m\u001b[1;33m\u001b[0m\u001b[1;33m\u001b[0m\u001b[0m\n\u001b[0;32m   3363\u001b[0m                 \u001b[1;32mraise\u001b[0m \u001b[0mKeyError\u001b[0m\u001b[1;33m(\u001b[0m\u001b[0mkey\u001b[0m\u001b[1;33m)\u001b[0m \u001b[1;32mfrom\u001b[0m \u001b[0merr\u001b[0m\u001b[1;33m\u001b[0m\u001b[1;33m\u001b[0m\u001b[0m\n",
      "\u001b[1;32m~\\anaconda3\\lib\\site-packages\\pandas\\_libs\\index.pyx\u001b[0m in \u001b[0;36mpandas._libs.index.IndexEngine.get_loc\u001b[1;34m()\u001b[0m\n",
      "\u001b[1;32m~\\anaconda3\\lib\\site-packages\\pandas\\_libs\\index.pyx\u001b[0m in \u001b[0;36mpandas._libs.index.IndexEngine.get_loc\u001b[1;34m()\u001b[0m\n",
      "\u001b[1;31mTypeError\u001b[0m: '(slice(None, None, None), slice(0, 2, None))' is an invalid key"
     ]
    }
   ],
   "source": [
    "X = dataset[:,0:2]\n",
    "Y = dataset[:,10]"
   ]
  },
  {
   "cell_type": "code",
   "execution_count": 216,
   "id": "277ab795",
   "metadata": {},
   "outputs": [
    {
     "data": {
      "text/plain": [
       "array([[3, 5],\n",
       "       [10, 2],\n",
       "       [10, 6],\n",
       "       ...,\n",
       "       [8, 7],\n",
       "       [8, 6],\n",
       "       [11, 2]], dtype=object)"
      ]
     },
     "execution_count": 216,
     "metadata": {},
     "output_type": "execute_result"
    }
   ],
   "source": [
    "X"
   ]
  },
  {
   "cell_type": "code",
   "execution_count": 217,
   "id": "21080841",
   "metadata": {},
   "outputs": [
    {
     "data": {
      "text/plain": [
       "array([0.0, 0.0, 0.0, 0.0, 0.0, 0.0, 0.0, 0.0, 0.0, 0.0, 0.0, 0.0, 0.0,\n",
       "       0.0, 0.0, 0.0, 0.0, 0.0, 0.0, 0.0, 0.0, 0.0, 0.0, 0.0, 0.0, 0.0,\n",
       "       0.0, 0.0, 0.0, 0.0, 0.0, 0.0, 0.0, 0.0, 0.0, 0.0, 0.0, 0.0, 0.0,\n",
       "       0.0, 0.0, 0.0, 0.0, 0.0, 0.0, 0.0, 0.0, 0.0, 0.0, 0.0, 0.0, 0.0,\n",
       "       0.0, 0.0, 0.0, 0.0, 0.0, 0.0, 0.0, 0.0, 0.0, 0.0, 0.0, 0.0, 0.0,\n",
       "       0.0, 0.0, 0.0, 0.0, 0.0, 0.0, 0.0, 0.0, 0.0, 0.0, 0.0, 0.0, 0.0,\n",
       "       0.0, 0.0, 0.0, 0.0, 0.0, 0.0, 0.0, 0.0, 0.0, 0.0, 0.0, 0.0, 0.0,\n",
       "       0.0, 0.0, 0.0, 0.0, 0.0, 0.0, 0.0, 0.0, 0.0, 0.0, 0.0, 0.0, 0.0,\n",
       "       0.0, 0.0, 0.0, 0.0, 0.0, 0.0, 0.0, 0.0, 0.0, 0.0, 0.0, 0.0, 0.0,\n",
       "       0.0, 0.0, 0.0, 0.0, 0.0, 0.0, 0.0, 0.0, 0.0, 0.0, 0.0, 0.0, 0.0,\n",
       "       0.0, 0.0, 0.0, 0.0, 0.0, 0.0, 0.0, 0.0, 0.36, 0.43, 0.47, 0.55,\n",
       "       0.61, 0.71, 0.77, 0.9, 0.95, 0.96, 1.07, 1.12, 1.19, 1.36, 1.43,\n",
       "       1.46, 1.46, 1.56, 1.61, 1.63, 1.64, 1.69, 1.75, 1.9, 1.94, 1.95,\n",
       "       2.01, 2.14, 2.29, 2.51, 2.53, 2.55, 2.57, 2.69, 2.74, 3.07, 3.5,\n",
       "       4.53, 4.61, 4.69, 4.88, 5.23, 5.33, 5.44, 6.38, 6.83, 6.96, 7.04,\n",
       "       7.19, 7.3, 7.4, 8.24, 8.31, 8.68, 8.71, 9.41, 10.01, 10.02, 10.93,\n",
       "       11.06, 11.24, 11.32, 11.53, 12.1, 13.05, 13.7, 13.99, 14.57, 15.45,\n",
       "       17.2, 19.23, 23.41, 24.23, 26.0, 26.13, 27.35, 28.66, 28.66, 29.48,\n",
       "       30.32, 31.72, 31.86, 32.07, 35.88, 36.85, 37.02, 37.71, 48.55,\n",
       "       49.37, 58.3, 64.1, 71.3, 88.49, 95.18, 103.39, 105.66, 154.88,\n",
       "       196.48, 200.94, 212.88, 1090.84, 0.0, 0.0, 0.0, 10.13, 0.0, 2.87,\n",
       "       0.76, 0.09, 0.75, 0.0, 2.47, 0.68, 0.24, 0.21, 1.52, 10.34, 0.0,\n",
       "       8.02, 0.68, 0.0, 1.38, 8.85, 3.3, 4.25, 1.56, 6.54, 0.79, 0.17,\n",
       "       0.0, 0.0, 4.4, 0.52, 9.27, 3.09, 8.98, 11.19, 5.38, 17.85, 10.73,\n",
       "       22.03, 9.77, 9.27, 24.77, 0.0, 1.1, 24.24, 0.0, 0.0, 0.0, 0.0, 0.0,\n",
       "       0.0, 8.0, 2.64, 86.45, 6.57, 0.0, 0.9, 0.0, 0.0, 0.0, 0.0, 3.52,\n",
       "       0.0, 0.0, 0.0, 0.0, 0.41, 5.18, 0.0, 0.0, 0.0, 14.29, 0.0, 0.0,\n",
       "       1.58, 0.0, 0.0, 3.78, 0.0, 4.41, 34.36, 7.21, 1.01, 2.18, 4.42,\n",
       "       0.0, 0.0, 0.0, 0.0, 3.33, 6.58, 15.64, 11.22, 2.13, 0.0, 0.0, 0.0,\n",
       "       56.04, 7.48, 1.47, 3.93, 0.0, 0.0, 2.18, 6.1, 5.83, 28.19, 0.0,\n",
       "       0.0, 1.64, 3.71, 7.31, 2.03, 1.72, 5.97, 13.06, 1.26, 0.0, 0.0,\n",
       "       8.12, 1.09, 3.94, 0.52, 2.93, 5.65, 20.03, 1.75, 0.0, 12.64, 0.0,\n",
       "       11.06, 0.0, 0.0, 0.0, 18.3, 39.35, 0.0, 174.63, 0.0, 0.0, 7.73,\n",
       "       16.33, 5.86, 42.87, 12.18, 16.0, 24.59, 0.0, 28.74, 0.0, 9.96,\n",
       "       30.18, 70.76, 0.0, 0.0, 51.78, 3.64, 3.63, 0.0, 0.0, 8.16, 4.95,\n",
       "       0.0, 0.0, 6.04, 0.0, 3.95, 0.0, 7.8, 0.0, 0.0, 4.62, 1.63, 0.0,\n",
       "       0.0, 746.28, 7.02, 0.0, 2.44, 3.05, 185.76, 0.0, 6.3, 0.72, 4.96,\n",
       "       0.0, 0.0, 2.35, 0.0, 3.2, 0.0, 6.36, 0.0, 15.34, 0.0, 0.0, 0.54,\n",
       "       0.0, 6.43, 0.33, 0.0, 1.23, 3.35, 0.0, 9.96, 0.0, 0.0, 0.0, 0.0,\n",
       "       0.0, 6.43, 9.71, 0.0, 0.0, 0.0, 0.0, 0.0, 82.75, 3.32, 1.94, 0.0,\n",
       "       0.0, 3.71, 5.39, 2.14, 6.84, 3.18, 5.55, 6.61, 61.13, 0.0, 38.48,\n",
       "       1.94, 70.32, 10.08, 3.19, 1.76, 7.36, 2.21, 278.53, 2.75, 0.0,\n",
       "       1.29, 0.0, 26.43, 2.07, 2.0, 16.4, 46.7, 0.0, 0.0, 0.0, 0.0, 43.32,\n",
       "       8.59, 0.0, 2.77, 14.68, 40.54, 10.82, 0.0, 0.0, 0.0, 1.95, 49.59,\n",
       "       5.8, 0.0, 0.0, 0.0, 2.17, 0.43, 0.0, 6.44, 54.29, 11.16, 0.0, 0.0],\n",
       "      dtype=object)"
      ]
     },
     "execution_count": 217,
     "metadata": {},
     "output_type": "execute_result"
    }
   ],
   "source": [
    "Y"
   ]
  },
  {
   "cell_type": "code",
   "execution_count": 218,
   "id": "0c01ee05",
   "metadata": {},
   "outputs": [],
   "source": [
    "from sklearn.ensemble import ExtraTreesRegressor\n",
    "from sklearn.feature_selection import RFE"
   ]
  },
  {
   "cell_type": "code",
   "execution_count": 219,
   "id": "008d04f0",
   "metadata": {},
   "outputs": [
    {
     "name": "stdout",
     "output_type": "stream",
     "text": [
      "Number of Features:  2\n",
      "Selected Features:  [ True  True]\n",
      "Feature Ranking:  [1 1]\n"
     ]
    }
   ],
   "source": [
    "#Feature Selection\n",
    "model = ExtraTreesRegressor()\n",
    "\n",
    "rfe = RFE(estimator=ExtraTreesRegressor(), n_features_to_select=3)\n",
    "\n",
    "fit = rfe.fit(X, Y)\n",
    "\n",
    "print(\"Number of Features: \", fit.n_features_)\n",
    "print(\"Selected Features: \", fit.support_)\n",
    "print(\"Feature Ranking: \", fit.ranking_) "
   ]
  },
  {
   "cell_type": "code",
   "execution_count": 220,
   "id": "e121a1b0",
   "metadata": {},
   "outputs": [
    {
     "data": {
      "text/plain": [
       "(array([[ 22.,  54.,   9.,   2.,  17.,  32., 184., 172.,  15.,  10.],\n",
       "        [138.,  54.,  61.,  85.,  84.,  95.,   0.,   0.,   0.,   0.]]),\n",
       " array([1.0, 2.1, 3.2, 4.300000000000001, 5.4, 6.5, 7.6000000000000005,\n",
       "        8.700000000000001, 9.8, 10.9, 12.0], dtype=object),\n",
       " <a list of 2 BarContainer objects>)"
      ]
     },
     "execution_count": 220,
     "metadata": {},
     "output_type": "execute_result"
    },
    {
     "data": {
      "image/png": "[encoded data removed]",
      "text/plain": [
       "<Figure size 432x288 with 1 Axes>"
      ]
     },
     "metadata": {
      "needs_background": "light"
     },
     "output_type": "display_data"
    }
   ],
   "source": [
    "import matplotlib.pyplot as plt\n",
    "import seaborn as sns\n",
    "plt.hist(X)"
   ]
  },
  {
   "cell_type": "code",
   "execution_count": 221,
   "id": "164ae9d1",
   "metadata": {},
   "outputs": [
    {
     "data": {
      "image/png": "[encoded data removed]",
      "text/plain": [
       "<Figure size 432x288 with 1 Axes>"
      ]
     },
     "metadata": {
      "needs_background": "light"
     },
     "output_type": "display_data"
    }
   ],
   "source": [
    "plt.hist(Y)\n",
    "plt.show()"
   ]
  },
  {
   "cell_type": "code",
   "execution_count": 222,
   "id": "cc805e13",
   "metadata": {},
   "outputs": [
    {
     "data": {
      "text/html": [
       "<div>\n",
       "<style scoped>\n",
       "    .dataframe tbody tr th:only-of-type {\n",
       "        vertical-align: middle;\n",
       "    }\n",
       "\n",
       "    .dataframe tbody tr th {\n",
       "        vertical-align: top;\n",
       "    }\n",
       "\n",
       "    .dataframe thead th {\n",
       "        text-align: right;\n",
       "    }\n",
       "</style>\n",
       "<table border=\"1\" class=\"dataframe\">\n",
       "  <thead>\n",
       "    <tr style=\"text-align: right;\">\n",
       "      <th></th>\n",
       "      <th>AT</th>\n",
       "      <th>AP</th>\n",
       "      <th>AH</th>\n",
       "      <th>AFDP</th>\n",
       "      <th>GTEP</th>\n",
       "      <th>TIT</th>\n",
       "      <th>TAT</th>\n",
       "      <th>TEY</th>\n",
       "      <th>CDP</th>\n",
       "      <th>CO</th>\n",
       "      <th>NOX</th>\n",
       "    </tr>\n",
       "  </thead>\n",
       "  <tbody>\n",
       "    <tr>\n",
       "      <th>0</th>\n",
       "      <td>6.8594</td>\n",
       "      <td>1007.9</td>\n",
       "      <td>96.799</td>\n",
       "      <td>3.5000</td>\n",
       "      <td>19.663</td>\n",
       "      <td>1059.2</td>\n",
       "      <td>550.00</td>\n",
       "      <td>114.70</td>\n",
       "      <td>10.605</td>\n",
       "      <td>3.1547</td>\n",
       "      <td>82.722</td>\n",
       "    </tr>\n",
       "    <tr>\n",
       "      <th>1</th>\n",
       "      <td>6.7850</td>\n",
       "      <td>1008.4</td>\n",
       "      <td>97.118</td>\n",
       "      <td>3.4998</td>\n",
       "      <td>19.728</td>\n",
       "      <td>1059.3</td>\n",
       "      <td>550.00</td>\n",
       "      <td>114.72</td>\n",
       "      <td>10.598</td>\n",
       "      <td>3.2363</td>\n",
       "      <td>82.776</td>\n",
       "    </tr>\n",
       "    <tr>\n",
       "      <th>2</th>\n",
       "      <td>6.8977</td>\n",
       "      <td>1008.8</td>\n",
       "      <td>95.939</td>\n",
       "      <td>3.4824</td>\n",
       "      <td>19.779</td>\n",
       "      <td>1059.4</td>\n",
       "      <td>549.87</td>\n",
       "      <td>114.71</td>\n",
       "      <td>10.601</td>\n",
       "      <td>3.2012</td>\n",
       "      <td>82.468</td>\n",
       "    </tr>\n",
       "    <tr>\n",
       "      <th>3</th>\n",
       "      <td>7.0569</td>\n",
       "      <td>1009.2</td>\n",
       "      <td>95.249</td>\n",
       "      <td>3.4805</td>\n",
       "      <td>19.792</td>\n",
       "      <td>1059.6</td>\n",
       "      <td>549.99</td>\n",
       "      <td>114.72</td>\n",
       "      <td>10.606</td>\n",
       "      <td>3.1923</td>\n",
       "      <td>82.670</td>\n",
       "    </tr>\n",
       "    <tr>\n",
       "      <th>4</th>\n",
       "      <td>7.3978</td>\n",
       "      <td>1009.7</td>\n",
       "      <td>95.150</td>\n",
       "      <td>3.4976</td>\n",
       "      <td>19.765</td>\n",
       "      <td>1059.7</td>\n",
       "      <td>549.98</td>\n",
       "      <td>114.72</td>\n",
       "      <td>10.612</td>\n",
       "      <td>3.2484</td>\n",
       "      <td>82.311</td>\n",
       "    </tr>\n",
       "  </tbody>\n",
       "</table>\n",
       "</div>"
      ],
      "text/plain": [
       "       AT      AP      AH    AFDP    GTEP     TIT     TAT     TEY     CDP  \\\n",
       "0  6.8594  1007.9  96.799  3.5000  19.663  1059.2  550.00  114.70  10.605   \n",
       "1  6.7850  1008.4  97.118  3.4998  19.728  1059.3  550.00  114.72  10.598   \n",
       "2  6.8977  1008.8  95.939  3.4824  19.779  1059.4  549.87  114.71  10.601   \n",
       "3  7.0569  1009.2  95.249  3.4805  19.792  1059.6  549.99  114.72  10.606   \n",
       "4  7.3978  1009.7  95.150  3.4976  19.765  1059.7  549.98  114.72  10.612   \n",
       "\n",
       "       CO     NOX  \n",
       "0  3.1547  82.722  \n",
       "1  3.2363  82.776  \n",
       "2  3.2012  82.468  \n",
       "3  3.1923  82.670  \n",
       "4  3.2484  82.311  "
      ]
     },
     "execution_count": 222,
     "metadata": {},
     "output_type": "execute_result"
    }
   ],
   "source": [
    "dataset.head(5)"
   ]
  },
  {
   "cell_type": "code",
   "execution_count": 223,
   "id": "713c9bbf",
   "metadata": {},
   "outputs": [
    {
     "data": {
      "text/plain": [
       "{'AFDP': 1,\n",
       " 'AH': 1,\n",
       " 'AP': 1,\n",
       " 'AT': 1,\n",
       " 'CDP': 1,\n",
       " 'CO': 1,\n",
       " 'GTEP': 1,\n",
       " 'NOX': 1,\n",
       " 'TAT': 1,\n",
       " 'TEY': 1,\n",
       " 'TIT': 1}"
      ]
     },
     "execution_count": 223,
     "metadata": {},
     "output_type": "execute_result"
    }
   ],
   "source": [
    "a = numpy.array([\"AT\",\"AP\",\"AH\",\"AFDP\",\"GTEP\",\"TIT\",\"TAT\",\"TEY\",\"CDP\",\"CO\",\"NOX\"])\n",
    "unique, counts = numpy.unique(a, return_counts=True)\n",
    "dict(zip(unique, counts))"
   ]
  },
  {
   "cell_type": "code",
   "execution_count": 225,
   "id": "4b7ce22e",
   "metadata": {},
   "outputs": [
    {
     "data": {
      "text/plain": [
       "(array([ 236., 1297., 1877., 2005., 1880., 2190., 2278., 1884., 1088.,\n",
       "         304.]),\n",
       " array([ 0.5223 ,  3.96297,  7.40364, 10.84431, 14.28498, 17.72565,\n",
       "        21.16632, 24.60699, 28.04766, 31.48833, 34.929  ]),\n",
       " <BarContainer object of 10 artists>)"
      ]
     },
     "execution_count": 225,
     "metadata": {},
     "output_type": "execute_result"
    },
    {
     "data": {
      "image/png": "[encoded data removed]",
      "text/plain": [
       "<Figure size 432x288 with 1 Axes>"
      ]
     },
     "metadata": {
      "needs_background": "light"
     },
     "output_type": "display_data"
    }
   ],
   "source": [
    "plt.hist((dataset.AT))"
   ]
  },
  {
   "cell_type": "code",
   "execution_count": 224,
   "id": "581f381b",
   "metadata": {},
   "outputs": [
    {
     "data": {
      "text/plain": [
       "array([[<AxesSubplot:title={'center':'AT'}>,\n",
       "        <AxesSubplot:title={'center':'AP'}>,\n",
       "        <AxesSubplot:title={'center':'AH'}>],\n",
       "       [<AxesSubplot:title={'center':'AFDP'}>,\n",
       "        <AxesSubplot:title={'center':'GTEP'}>,\n",
       "        <AxesSubplot:title={'center':'TIT'}>],\n",
       "       [<AxesSubplot:title={'center':'TAT'}>,\n",
       "        <AxesSubplot:title={'center':'TEY'}>,\n",
       "        <AxesSubplot:title={'center':'CDP'}>],\n",
       "       [<AxesSubplot:title={'center':'CO'}>,\n",
       "        <AxesSubplot:title={'center':'NOX'}>, <AxesSubplot:>]],\n",
       "      dtype=object)"
      ]
     },
     "execution_count": 224,
     "metadata": {},
     "output_type": "execute_result"
    },
    {
     "data": {
      "image/png": "[encoded data removed]",
      "text/plain": [
       "<Figure size 432x288 with 12 Axes>"
      ]
     },
     "metadata": {
      "needs_background": "light"
     },
     "output_type": "display_data"
    }
   ],
   "source": [
    "dataset.hist()"
   ]
  },
  {
   "cell_type": "code",
   "execution_count": 228,
   "id": "e8fe0b37",
   "metadata": {},
   "outputs": [
    {
     "ename": "AttributeError",
     "evalue": "module 'warnings' has no attribute 'fiterwarnings'",
     "output_type": "error",
     "traceback": [
      "\u001b[1;31m---------------------------------------------------------------------------\u001b[0m",
      "\u001b[1;31mAttributeError\u001b[0m                            Traceback (most recent call last)",
      "\u001b[1;32m~\\AppData\\Local\\Temp/ipykernel_27208/3600962381.py\u001b[0m in \u001b[0;36m<module>\u001b[1;34m\u001b[0m\n\u001b[0;32m      1\u001b[0m \u001b[1;32mimport\u001b[0m \u001b[0mwarnings\u001b[0m\u001b[1;33m\u001b[0m\u001b[1;33m\u001b[0m\u001b[0m\n\u001b[1;32m----> 2\u001b[1;33m \u001b[0mwarnings\u001b[0m\u001b[1;33m.\u001b[0m\u001b[0mfiterwarnings\u001b[0m\u001b[1;33m(\u001b[0m\u001b[1;34m'ignore'\u001b[0m\u001b[1;33m)\u001b[0m\u001b[1;33m\u001b[0m\u001b[1;33m\u001b[0m\u001b[0m\n\u001b[0m",
      "\u001b[1;31mAttributeError\u001b[0m: module 'warnings' has no attribute 'fiterwarnings'"
     ]
    }
   ],
   "source": [
    "import warnings\n",
    "warnings.fiterwarnings('ignore')"
   ]
  },
  {
   "cell_type": "code",
   "execution_count": 229,
   "id": "a0c27811",
   "metadata": {},
   "outputs": [
    {
     "data": {
      "text/plain": [
       "array([[<AxesSubplot:ylabel='Density'>, <AxesSubplot:ylabel='Density'>,\n",
       "        <AxesSubplot:ylabel='Density'>, <AxesSubplot:ylabel='Density'>],\n",
       "       [<AxesSubplot:ylabel='Density'>, <AxesSubplot:ylabel='Density'>,\n",
       "        <AxesSubplot:ylabel='Density'>, <AxesSubplot:ylabel='Density'>],\n",
       "       [<AxesSubplot:ylabel='Density'>, <AxesSubplot:ylabel='Density'>,\n",
       "        <AxesSubplot:ylabel='Density'>, <AxesSubplot:ylabel='Density'>],\n",
       "       [<AxesSubplot:ylabel='Density'>, <AxesSubplot:ylabel='Density'>,\n",
       "        <AxesSubplot:ylabel='Density'>, <AxesSubplot:ylabel='Density'>]],\n",
       "      dtype=object)"
      ]
     },
     "execution_count": 229,
     "metadata": {},
     "output_type": "execute_result"
    },
    {
     "data": {
      "image/png": "[encoded data removed]",
      "text/plain": [
       "<Figure size 432x288 with 16 Axes>"
      ]
     },
     "metadata": {
      "needs_background": "light"
     },
     "output_type": "display_data"
    }
   ],
   "source": [
    "dataset.plot(kind='density', subplots=True, layout=(4,4), sharex=False, sharey=False)"
   ]
  },
  {
   "cell_type": "code",
   "execution_count": 230,
   "id": "50b16e92",
   "metadata": {},
   "outputs": [
    {
     "data": {
      "text/plain": [
       "AT          AxesSubplot(0.125,0.71587;0.168478x0.16413)\n",
       "AP       AxesSubplot(0.327174,0.71587;0.168478x0.16413)\n",
       "AH       AxesSubplot(0.529348,0.71587;0.168478x0.16413)\n",
       "AFDP     AxesSubplot(0.731522,0.71587;0.168478x0.16413)\n",
       "GTEP       AxesSubplot(0.125,0.518913;0.168478x0.16413)\n",
       "TIT     AxesSubplot(0.327174,0.518913;0.168478x0.16413)\n",
       "TAT     AxesSubplot(0.529348,0.518913;0.168478x0.16413)\n",
       "TEY     AxesSubplot(0.731522,0.518913;0.168478x0.16413)\n",
       "CDP        AxesSubplot(0.125,0.321957;0.168478x0.16413)\n",
       "CO      AxesSubplot(0.327174,0.321957;0.168478x0.16413)\n",
       "NOX     AxesSubplot(0.529348,0.321957;0.168478x0.16413)\n",
       "dtype: object"
      ]
     },
     "execution_count": 230,
     "metadata": {},
     "output_type": "execute_result"
    },
    {
     "data": {
      "image/png": "[encoded data removed]",
      "text/plain": [
       "<Figure size 432x288 with 16 Axes>"
      ]
     },
     "metadata": {
      "needs_background": "light"
     },
     "output_type": "display_data"
    }
   ],
   "source": [
    "dataset.plot(kind='box', subplots=True, layout=(4,4), sharex=False, sharey=False)"
   ]
  },
  {
   "cell_type": "code",
   "execution_count": 232,
   "id": "ff489c47",
   "metadata": {},
   "outputs": [
    {
     "data": {
      "text/plain": [
       "[Text(0, 0, 'AT'),\n",
       " Text(0, 1, 'AP'),\n",
       " Text(0, 2, 'AH'),\n",
       " Text(0, 3, 'AFDP'),\n",
       " Text(0, 4, 'GTEP'),\n",
       " Text(0, 5, 'TIT'),\n",
       " Text(0, 6, 'TAT'),\n",
       " Text(0, 7, 'TEY'),\n",
       " Text(0, 8, 'CDP'),\n",
       " Text(0, 9, 'CO'),\n",
       " Text(0, 10, 'NOX')]"
      ]
     },
     "execution_count": 232,
     "metadata": {},
     "output_type": "execute_result"
    },
    {
     "data": {
      "image/png": "[encoded data removed]",
      "text/plain": [
       "<Figure size 432x288 with 2 Axes>"
      ]
     },
     "metadata": {
      "needs_background": "light"
     },
     "output_type": "display_data"
    }
   ],
   "source": [
    "fig = plt.figure()\n",
    "ax = fig.add_subplot(111)\n",
    "cax = ax.matshow(dataset.corr(), vmin=-1, vmax=1)\n",
    "fig.colorbar(cax)\n",
    "ticks = numpy.arange(0,11,1)\n",
    "ax.set_xticks(ticks)\n",
    "ax.set_yticks(ticks)\n",
    "ax.set_xticklabels(dataset.columns)\n",
    "ax.set_yticklabels(dataset.columns)"
   ]
  },
  {
   "cell_type": "code",
   "execution_count": 233,
   "id": "ea739af3",
   "metadata": {},
   "outputs": [],
   "source": [
    "models = []\n",
    "models.append(('LiR', LinearRegression()))\n",
    "models.append(('Ridge', Ridge()))\n",
    "models.append(('Lasso', Lasso()))\n",
    "models.append(('ElasticNet', ElasticNet()))\n",
    "models.append(('Bag_Re', BaggingRegressor()))\n",
    "models.append(('RandomForest', RandomForestRegressor()))\n",
    "models.append(('ExtraTreesRegressor', ExtraTreesRegressor()))\n",
    "models.append(('KNN', KNeighborsRegressor()))\n",
    "models.append(('CART', DecisionTreeRegressor()))\n",
    "models.append(('SVM', SVR()))"
   ]
  },
  {
   "cell_type": "code",
   "execution_count": 234,
   "id": "6e0a7cc3",
   "metadata": {},
   "outputs": [],
   "source": [
    "for name, model in models:\n",
    "    # Fit the model\n",
    "    model.fit(X, Y)\n",
    "    predictions = model.predict(X)"
   ]
  },
  {
   "cell_type": "code",
   "execution_count": 235,
   "id": "25a2829a",
   "metadata": {},
   "outputs": [
    {
     "name": "stdout",
     "output_type": "stream",
     "text": [
      "SVM: 0.000122 (12.738801)\n"
     ]
    }
   ],
   "source": [
    "# Evaluate the model\n",
    "score = explained_variance_score(Y, predictions)\n",
    "mae = mean_absolute_error(predictions, Y)\n",
    "# print(\"%s: %.2f%%\" % (model.metrics_names[1], scores[1]*100))\n",
    "results.append(mae)\n",
    "names.append(name)\n",
    "    \n",
    "msg = \"%s: %f (%f)\" % (name, score, mae)\n",
    "print(msg)"
   ]
  },
  {
   "cell_type": "code",
   "execution_count": 236,
   "id": "dcc43f2c",
   "metadata": {},
   "outputs": [
    {
     "name": "stdout",
     "output_type": "stream",
     "text": [
      "ExtraTreesRegressor: 0.052860 (18.228551)\n"
     ]
    }
   ],
   "source": [
    "models = []\n",
    "models.append(('ExtraTreesRegressor', ExtraTreesRegressor()))\n",
    "for name, model in models:\n",
    "    # Fit the model\n",
    "    model.fit(X, Y)\n",
    "    predictions = model.predict(X)\n",
    "score = explained_variance_score(Y, predictions)\n",
    "mae = mean_absolute_error(predictions, Y)\n",
    "# print(\"%s: %.2f%%\" % (model.metrics_names[1], scores[1]*100))\n",
    "results.append(mae)\n",
    "names.append(name)    \n",
    "msg = (\"%s: %f (%f)\" % (name, score, mae))\n",
    "print(\"%s: %f (%f)\" % (name, score, mae))"
   ]
  },
  {
   "cell_type": "code",
   "execution_count": 237,
   "id": "913d7343",
   "metadata": {},
   "outputs": [
    {
     "name": "stdout",
     "output_type": "stream",
     "text": [
      "LiR: 0.003875 (18.492840)\n"
     ]
    }
   ],
   "source": [
    "models = []\n",
    "models.append(('LiR', LinearRegression()))\n",
    "for name, model in models:\n",
    "    # Fit the model\n",
    "    model.fit(X, Y)\n",
    "    predictions = model.predict(X)\n",
    "score = explained_variance_score(Y, predictions)\n",
    "mae = mean_absolute_error(predictions, Y)\n",
    "# print(\"%s: %.2f%%\" % (model.metrics_names[1], scores[1]*100))\n",
    "results.append(mae)\n",
    "names.append(name)    \n",
    "msg = \"%s: %f (%f)\" % (name, score, mae)\n",
    "print(msg)"
   ]
  },
  {
   "cell_type": "code",
   "execution_count": 238,
   "id": "b5427447",
   "metadata": {},
   "outputs": [
    {
     "name": "stdout",
     "output_type": "stream",
     "text": [
      "KNN: 0.002920 (13.204530)\n"
     ]
    }
   ],
   "source": [
    "models = []\n",
    "models.append(('KNN', KNeighborsRegressor()))\n",
    "for name, model in models:\n",
    "    # Fit the model\n",
    "    model.fit(X, Y)\n",
    "    predictions = model.predict(X)\n",
    "score = explained_variance_score(Y, predictions)\n",
    "mae = mean_absolute_error(predictions, Y)\n",
    "# print(\"%s: %.2f%%\" % (model.metrics_names[1], scores[1]*100))\n",
    "results.append(mae)\n",
    "names.append(name)    \n",
    "msg = \"%s: %f (%f)\" % (name, score, mae)\n",
    "print(msg)"
   ]
  },
  {
   "cell_type": "code",
   "execution_count": null,
   "id": "aaf0ebe2",
   "metadata": {},
   "outputs": [],
   "source": []
  }
 ],
 "metadata": {
  "kernelspec": {
   "display_name": "Python 3 (ipykernel)",
   "language": "python",
   "name": "python3"
  },
  "language_info": {
   "codemirror_mode": {
    "name": "ipython",
    "version": 3
   },
   "file_extension": ".py",
   "mimetype": "text/x-python",
   "name": "python",
   "nbconvert_exporter": "python",
   "pygments_lexer": "ipython3",
   "version": "3.9.7"
  }
 },
 "nbformat": 4,
 "nbformat_minor": 5
}
